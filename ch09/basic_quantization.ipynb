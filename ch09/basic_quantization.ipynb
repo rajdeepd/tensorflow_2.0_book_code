{
 "cells": [
  {
   "cell_type": "code",
   "execution_count": 16,
   "metadata": {},
   "outputs": [
    {
     "name": "stdout",
     "output_type": "stream",
     "text": [
      "/Users/rdua/opt/anaconda3/bin/python\r\n"
     ]
    }
   ],
   "source": [
    "!which python"
   ]
  },
  {
   "cell_type": "code",
   "execution_count": 74,
   "metadata": {},
   "outputs": [],
   "source": [
    "#! pip install tensorflow-model-optimization\n",
    "\n",
    "#! pip install tensorflow"
   ]
  },
  {
   "cell_type": "code",
   "execution_count": 73,
   "metadata": {},
   "outputs": [
    {
     "data": {
      "text/plain": [
       "'2.4.1'"
      ]
     },
     "execution_count": 73,
     "metadata": {},
     "output_type": "execute_result"
    }
   ],
   "source": [
    "import numpy as np\n",
    "import tensorflow as tf\n",
    "import inspect\n",
    "tf.__version__"
   ]
  },
  {
   "cell_type": "code",
   "execution_count": 53,
   "metadata": {},
   "outputs": [],
   "source": [
    "model_type = 'InceptionV3'\n",
    "_MODEL_INPUT_SHAPES = {\n",
    "      'InceptionV3': (75, 75, 3)\n",
    "  }\n",
    "def _get_model(model_type):\n",
    "    model_fn = [\n",
    "        y for x, y in inspect.getmembers(tf.keras.applications)\n",
    "        if x == model_type\n",
    "    ][0]\n",
    "\n",
    "    input_shape = _MODEL_INPUT_SHAPES.get(\n",
    "        model_type, (32, 32, 3))\n",
    "\n",
    "    return model_fn(weights=None, input_shape=input_shape)\n",
    "model = _get_model(model_type)"
   ]
  },
  {
   "cell_type": "code",
   "execution_count": 54,
   "metadata": {},
   "outputs": [],
   "source": [
    "def _batch(dims, batch_size):\n",
    "    if dims[0] is None:\n",
    "      dims[0] = batch_size\n",
    "    return dims\n",
    "\n",
    "x_train = np.random.randn(\n",
    "        *_batch(model.input.get_shape().as_list(), 2)).astype('float32')\n",
    "y_train = tf.keras.utils.to_categorical(\n",
    "        np.random.randint(1000, size=(2, 1)), 1000)"
   ]
  },
  {
   "cell_type": "code",
   "execution_count": 57,
   "metadata": {},
   "outputs": [
    {
     "data": {
      "text/plain": [
       "(2, 75, 75, 3)"
      ]
     },
     "execution_count": 57,
     "metadata": {},
     "output_type": "execute_result"
    }
   ],
   "source": [
    "x_train.shape"
   ]
  },
  {
   "cell_type": "code",
   "execution_count": 58,
   "metadata": {},
   "outputs": [
    {
     "data": {
      "text/plain": [
       "(2, 1000)"
      ]
     },
     "execution_count": 58,
     "metadata": {},
     "output_type": "execute_result"
    }
   ],
   "source": [
    "y_train.shape"
   ]
  },
  {
   "cell_type": "code",
   "execution_count": 70,
   "metadata": {},
   "outputs": [
    {
     "ename": "AttributeError",
     "evalue": "module 'tensorflow_model_optimization' has no attribute 'quantization'",
     "output_type": "error",
     "traceback": [
      "\u001b[0;31m---------------------------------------------------------------------------\u001b[0m",
      "\u001b[0;31mAttributeError\u001b[0m                            Traceback (most recent call last)",
      "\u001b[0;32m<ipython-input-70-cfe5b9aa8735>\u001b[0m in \u001b[0;36m<module>\u001b[0;34m\u001b[0m\n\u001b[1;32m      4\u001b[0m \u001b[0;32mimport\u001b[0m \u001b[0mtensorflow_model_optimization\u001b[0m \u001b[0;32mas\u001b[0m \u001b[0mtfmot\u001b[0m\u001b[0;34m\u001b[0m\u001b[0;34m\u001b[0m\u001b[0m\n\u001b[1;32m      5\u001b[0m \u001b[0;34m\u001b[0m\u001b[0m\n\u001b[0;32m----> 6\u001b[0;31m \u001b[0mquantize_model\u001b[0m \u001b[0;34m=\u001b[0m \u001b[0mtfmot\u001b[0m\u001b[0;34m.\u001b[0m\u001b[0mquantization\u001b[0m\u001b[0;34m.\u001b[0m\u001b[0mkeras\u001b[0m\u001b[0;34m.\u001b[0m\u001b[0mquantize_model\u001b[0m\u001b[0;34m\u001b[0m\u001b[0;34m\u001b[0m\u001b[0m\n\u001b[0m\u001b[1;32m      7\u001b[0m \u001b[0;34m\u001b[0m\u001b[0m\n\u001b[1;32m      8\u001b[0m \u001b[0;31m# q_aware stands for for quantization aware.\u001b[0m\u001b[0;34m\u001b[0m\u001b[0;34m\u001b[0m\u001b[0;34m\u001b[0m\u001b[0m\n",
      "\u001b[0;31mAttributeError\u001b[0m: module 'tensorflow_model_optimization' has no attribute 'quantization'"
     ]
    }
   ],
   "source": [
    "from tensorflow.python.keras import keras_parameterized\n",
    "#from tensorflow_model_optimization.python.core.quantization.keras import quantize\n",
    "#from tensorflow_model_optimization.python.core.quantization.keras import utils\n",
    "import tensorflow_model_optimization as tfmot\n",
    "\n",
    "quantize_model = tfmot.quantization.keras.quantize_model\n",
    "\n",
    "# q_aware stands for for quantization aware.\n",
    "q_aware_model = quantize_model(model)\n",
    "q_aware_model.summary()"
   ]
  },
  {
   "cell_type": "code",
   "execution_count": 69,
   "metadata": {},
   "outputs": [
    {
     "data": {
      "text/plain": [
       "['Input',\n",
       " 'Model',\n",
       " 'Sequential',\n",
       " '__builtins__',\n",
       " '__cached__',\n",
       " '__doc__',\n",
       " '__file__',\n",
       " '__loader__',\n",
       " '__name__',\n",
       " '__package__',\n",
       " '__path__',\n",
       " '__spec__',\n",
       " '__version__',\n",
       " '_keras_api_constants',\n",
       " '_keras_api_constants_v1',\n",
       " 'absolute_import',\n",
       " 'activations',\n",
       " 'api',\n",
       " 'applications',\n",
       " 'backend',\n",
       " 'backend_config',\n",
       " 'callbacks',\n",
       " 'callbacks_v1',\n",
       " 'constraints',\n",
       " 'datasets',\n",
       " 'distribute',\n",
       " 'division',\n",
       " 'engine',\n",
       " 'estimator',\n",
       " 'feature_column',\n",
       " 'initializers',\n",
       " 'keras_export',\n",
       " 'keras_parameterized',\n",
       " 'layers',\n",
       " 'legacy_tf_layers',\n",
       " 'losses',\n",
       " 'metrics',\n",
       " 'mixed_precision',\n",
       " 'models',\n",
       " 'optimizer_v1',\n",
       " 'optimizer_v2',\n",
       " 'optimizers',\n",
       " 'premade',\n",
       " 'preprocessing',\n",
       " 'print_function',\n",
       " 'protobuf',\n",
       " 'regularizers',\n",
       " 'saving',\n",
       " 'testing_utils',\n",
       " 'tf2',\n",
       " 'utils',\n",
       " 'wrappers']"
      ]
     },
     "execution_count": 69,
     "metadata": {},
     "output_type": "execute_result"
    }
   ],
   "source": [
    "#dir(tensorflow_model_optimization.sparsity.keras.keras)"
   ]
  },
  {
   "cell_type": "code",
   "execution_count": null,
   "metadata": {},
   "outputs": [],
   "source": []
  }
 ],
 "metadata": {
  "kernelspec": {
   "display_name": "Python 3",
   "language": "python",
   "name": "python3"
  },
  "language_info": {
   "codemirror_mode": {
    "name": "ipython",
    "version": 3
   },
   "file_extension": ".py",
   "mimetype": "text/x-python",
   "name": "python",
   "nbconvert_exporter": "python",
   "pygments_lexer": "ipython3",
   "version": "3.7.4"
  }
 },
 "nbformat": 4,
 "nbformat_minor": 4
}
