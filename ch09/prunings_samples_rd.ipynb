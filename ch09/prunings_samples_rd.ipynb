{
  "nbformat": 4,
  "nbformat_minor": 0,
  "metadata": {
    "colab": {
      "name": "prunings_samples_rd.ipynb",
      "provenance": [],
      "authorship_tag": "ABX9TyNifuiDUI159SL/QK4WkKlJ",
      "include_colab_link": true
    },
    "kernelspec": {
      "name": "python3",
      "display_name": "Python 3"
    },
    "language_info": {
      "name": "python"
    }
  },
  "cells": [
    {
      "cell_type": "markdown",
      "metadata": {
        "id": "view-in-github",
        "colab_type": "text"
      },
      "source": [
        "<a href=\"https://colab.research.google.com/github/rajdeepd/tensorflow_2.0_book_code/blob/master/ch09/prunings_samples_rd.ipynb\" target=\"_parent\"><img src=\"https://colab.research.google.com/assets/colab-badge.svg\" alt=\"Open In Colab\"/></a>"
      ]
    },
    {
      "cell_type": "code",
      "metadata": {
        "colab": {
          "base_uri": "https://localhost:8080/"
        },
        "id": "Df1lejBuEI7G",
        "outputId": "86d6eb11-c3bc-44d7-80fa-a3f13f4e378f"
      },
      "source": [
        "! pip install -q tensorflow-model-optimization\n",
        "\n",
        "import tensorflow as tf\n",
        "import numpy as np\n",
        "import tensorflow_model_optimization as tfmot\n"
      ],
      "execution_count": 1,
      "outputs": [
        {
          "output_type": "stream",
          "name": "stdout",
          "text": [
            "\u001b[?25l\r\u001b[K     |█▌                              | 10 kB 15.2 MB/s eta 0:00:01\r\u001b[K     |███                             | 20 kB 15.1 MB/s eta 0:00:01\r\u001b[K     |████▋                           | 30 kB 8.5 MB/s eta 0:00:01\r\u001b[K     |██████▏                         | 40 kB 3.9 MB/s eta 0:00:01\r\u001b[K     |███████▊                        | 51 kB 4.3 MB/s eta 0:00:01\r\u001b[K     |█████████▎                      | 61 kB 4.9 MB/s eta 0:00:01\r\u001b[K     |██████████▊                     | 71 kB 4.9 MB/s eta 0:00:01\r\u001b[K     |████████████▎                   | 81 kB 5.5 MB/s eta 0:00:01\r\u001b[K     |█████████████▉                  | 92 kB 5.2 MB/s eta 0:00:01\r\u001b[K     |███████████████▍                | 102 kB 4.3 MB/s eta 0:00:01\r\u001b[K     |█████████████████               | 112 kB 4.3 MB/s eta 0:00:01\r\u001b[K     |██████████████████▌             | 122 kB 4.3 MB/s eta 0:00:01\r\u001b[K     |████████████████████            | 133 kB 4.3 MB/s eta 0:00:01\r\u001b[K     |█████████████████████▌          | 143 kB 4.3 MB/s eta 0:00:01\r\u001b[K     |███████████████████████         | 153 kB 4.3 MB/s eta 0:00:01\r\u001b[K     |████████████████████████▋       | 163 kB 4.3 MB/s eta 0:00:01\r\u001b[K     |██████████████████████████▏     | 174 kB 4.3 MB/s eta 0:00:01\r\u001b[K     |███████████████████████████▊    | 184 kB 4.3 MB/s eta 0:00:01\r\u001b[K     |█████████████████████████████▏  | 194 kB 4.3 MB/s eta 0:00:01\r\u001b[K     |██████████████████████████████▊ | 204 kB 4.3 MB/s eta 0:00:01\r\u001b[K     |████████████████████████████████| 213 kB 4.3 MB/s \n",
            "\u001b[?25h"
          ]
        }
      ]
    },
    {
      "cell_type": "code",
      "metadata": {
        "colab": {
          "base_uri": "https://localhost:8080/"
        },
        "id": "Dwyn5D-UEfKP",
        "outputId": "5f859977-b8d6-4f52-d545-072c94b042aa"
      },
      "source": [
        "\n",
        "%load_ext tensorboard\n",
        "\n",
        "import tempfile\n",
        "\n",
        "input_shape = [20]\n",
        "x_train = np.random.randn(1, 20).astype(np.float32)\n",
        "y_train = tf.keras.utils.to_categorical(np.random.randn(1), num_classes=20)\n"
      ],
      "execution_count": 10,
      "outputs": [
        {
          "output_type": "stream",
          "name": "stdout",
          "text": [
            "The tensorboard extension is already loaded. To reload it, use:\n",
            "  %reload_ext tensorboard\n"
          ]
        }
      ]
    },
    {
      "cell_type": "code",
      "metadata": {
        "colab": {
          "base_uri": "https://localhost:8080/"
        },
        "id": "wYgFU7TyEk32",
        "outputId": "ac838d89-ca5d-4682-c376-ec7103b56eb9"
      },
      "source": [
        " model = tf.keras.Sequential([\n",
        "      tf.keras.layers.Dense(20, input_shape=input_shape),\n",
        "      tf.keras.layers.Flatten()\n",
        "  ])\n",
        " \n",
        " model"
      ],
      "execution_count": 4,
      "outputs": [
        {
          "output_type": "execute_result",
          "data": {
            "text/plain": [
              "<keras.engine.sequential.Sequential at 0x7f56bd3c0ed0>"
            ]
          },
          "metadata": {},
          "execution_count": 4
        }
      ]
    },
    {
      "cell_type": "code",
      "metadata": {
        "colab": {
          "base_uri": "https://localhost:8080/"
        },
        "id": "YOUoyAV3Exf8",
        "outputId": "9c7c6ef9-b8b4-4bd0-9cfb-e7026226efc5"
      },
      "source": [
        "  model.compile(\n",
        "      loss=tf.keras.losses.categorical_crossentropy,\n",
        "      optimizer='adam',\n",
        "      metrics=['accuracy']\n",
        "  )\n",
        "\n",
        "  model.fit(x_train, y_train)\n",
        "\n",
        "  _, pretrained_weights = tempfile.mkstemp('.tf')\n",
        "\n",
        "  model.save_weights(pretrained_weights)"
      ],
      "execution_count": 5,
      "outputs": [
        {
          "output_type": "stream",
          "name": "stdout",
          "text": [
            "1/1 [==============================] - 1s 554ms/step - loss: 16.1181 - accuracy: 0.0000e+00\n"
          ]
        }
      ]
    }
  ]
}