{
  "nbformat": 4,
  "nbformat_minor": 0,
  "metadata": {
    "kernelspec": {
      "display_name": "Python 3",
      "language": "python",
      "name": "python3"
    },
    "language_info": {
      "codemirror_mode": {
        "name": "ipython",
        "version": 3
      },
      "file_extension": ".py",
      "mimetype": "text/x-python",
      "name": "python",
      "nbconvert_exporter": "python",
      "pygments_lexer": "ipython3",
      "version": "3.7.4"
    },
    "colab": {
      "name": "inception_v3_all_images_25_epochs_colab_modelfit.ipynb",
      "provenance": [],
      "machine_shape": "hm",
      "include_colab_link": true
    },
    "accelerator": "TPU"
  },
  "cells": [
    {
      "cell_type": "markdown",
      "metadata": {
        "id": "view-in-github",
        "colab_type": "text"
      },
      "source": [
        "<a href=\"https://colab.research.google.com/github/rajdeepd/tensorflow_2.0_book_code/blob/master/ch04/inception_v3_all_images_25_epochs_colab_modelfit.ipynb\" target=\"_parent\"><img src=\"https://colab.research.google.com/assets/colab-badge.svg\" alt=\"Open In Colab\"/></a>"
      ]
    },
    {
      "cell_type": "code",
      "metadata": {
        "colab": {
          "base_uri": "https://localhost:8080/"
        },
        "id": "ecwHijp-HyF0",
        "outputId": "9aab0644-237b-40b0-9e57-ce3b98ff412d"
      },
      "source": [
        "import sys\n",
        "IN_COLAB = 'google.colab' in sys.modules\n",
        "print('Google Colab? ' + str(IN_COLAB))\n",
        "\n",
        "if not IN_COLAB:\n",
        "#!python -m pip show tensorflow\n",
        "  !which python\n",
        "  !python -m pip show tensorflow"
      ],
      "execution_count": 1,
      "outputs": [
        {
          "output_type": "stream",
          "text": [
            "Google Colab? True\n"
          ],
          "name": "stdout"
        }
      ]
    },
    {
      "cell_type": "code",
      "metadata": {
        "colab": {
          "base_uri": "https://localhost:8080/"
        },
        "id": "OyiuZWNI29uM",
        "outputId": "3d15d5a0-3e93-436c-c76c-dea9760d56ba"
      },
      "source": [
        "!pwd"
      ],
      "execution_count": 2,
      "outputs": [
        {
          "output_type": "stream",
          "text": [
            "/content\n"
          ],
          "name": "stdout"
        }
      ]
    },
    {
      "cell_type": "code",
      "metadata": {
        "colab": {
          "base_uri": "https://localhost:8080/"
        },
        "id": "r78p-VqYICcr",
        "outputId": "eb390204-469e-4e83-95db-2f11c39f1690"
      },
      "source": [
        "\n",
        "\n",
        "from google.colab import drive\n",
        "drive.mount(\"/content/gdrive\")\n"
      ],
      "execution_count": 4,
      "outputs": [
        {
          "output_type": "stream",
          "text": [
            "Mounted at /content/gdrive\n"
          ],
          "name": "stdout"
        }
      ]
    },
    {
      "cell_type": "code",
      "metadata": {
        "colab": {
          "base_uri": "https://localhost:8080/"
        },
        "id": "Zw9hxoLhQFEV",
        "outputId": "2208cf74-1830-46a8-e5ae-14c6fbbae35f"
      },
      "source": [
        "!ls \"/content/gdrive/My Drive/cancer_detection/metastatic_cancer\""
      ],
      "execution_count": 5,
      "outputs": [
        {
          "output_type": "stream",
          "text": [
            "model_summary\t\t   training\t\tvalidation\n",
            "plots_2.4.1_google_collab  training_logs_2.4.1\n",
            "plots_2.5.0_google_collab  training_logs_2.5.0\n"
          ],
          "name": "stdout"
        }
      ]
    },
    {
      "cell_type": "code",
      "metadata": {
        "_uuid": "812221f6046eb6002d9835e040d8d50675c4718e",
        "id": "m8VUETGpHyF6"
      },
      "source": [
        "%matplotlib inline"
      ],
      "execution_count": 6,
      "outputs": []
    },
    {
      "cell_type": "code",
      "metadata": {
        "colab": {
          "base_uri": "https://localhost:8080/",
          "height": 35
        },
        "id": "XP8giC12HyF7",
        "outputId": "3c32f5d0-2868-4a99-d85f-ba7a26898bf3"
      },
      "source": [
        "import sys\n",
        "sys.executable"
      ],
      "execution_count": 7,
      "outputs": [
        {
          "output_type": "execute_result",
          "data": {
            "application/vnd.google.colaboratory.intrinsic+json": {
              "type": "string"
            },
            "text/plain": [
              "'/usr/bin/python3'"
            ]
          },
          "metadata": {
            "tags": []
          },
          "execution_count": 7
        }
      ]
    },
    {
      "cell_type": "markdown",
      "metadata": {
        "id": "FYucnxApHyF8"
      },
      "source": [
        "https://www.tensorflow.org/versions/r2.0/api_docs/python/tf/keras/applications/vgg19"
      ]
    },
    {
      "cell_type": "code",
      "metadata": {
        "_cell_guid": "b1076dfc-b9ad-4769-8c92-a6c4dae69d19",
        "_kg_hide-input": false,
        "_kg_hide-output": false,
        "_uuid": "8f2839f25d086af736a60e9eeb907d3b93b6e0e5",
        "id": "N1wRW5odHyF9"
      },
      "source": [
        "# Imports\n",
        "import numpy as np \n",
        "import pandas as pd \n",
        "from glob import glob \n",
        "from skimage.io import imread \n",
        "import os\n",
        "import shutil\n",
        "import matplotlib.pyplot as plt\n",
        "from sklearn.metrics import roc_curve, auc, roc_auc_score\n",
        "from sklearn.model_selection import train_test_split\n",
        "import tensorflow\n",
        "from tensorflow.keras.preprocessing.image import ImageDataGenerator\n",
        "from tensorflow.keras.applications.inception_v3 import InceptionV3\n",
        "from tensorflow.keras.utils import plot_model\n",
        "from tensorflow.keras.layers import Dropout, Flatten, Dense, GlobalAveragePooling2D, Average, Input, Concatenate, GlobalMaxPooling2D\n",
        "from tensorflow.keras.models import Model\n",
        "from tensorflow.keras.callbacks import CSVLogger, ModelCheckpoint\n",
        "from tensorflow.keras.optimizers import Adam"
      ],
      "execution_count": 13,
      "outputs": []
    },
    {
      "cell_type": "code",
      "metadata": {
        "id": "cKRXChRbQyLE",
        "colab": {
          "base_uri": "https://localhost:8080/",
          "height": 35
        },
        "outputId": "50b09217-2e51-4ea5-e8a8-5a657586d6e6"
      },
      "source": [
        "#!pip show tensorflow\n",
        "TF_VERSION = tensorflow.__version__\n",
        "TF_VERSION"
      ],
      "execution_count": 9,
      "outputs": [
        {
          "output_type": "execute_result",
          "data": {
            "application/vnd.google.colaboratory.intrinsic+json": {
              "type": "string"
            },
            "text/plain": [
              "'2.5.0'"
            ]
          },
          "metadata": {
            "tags": []
          },
          "execution_count": 9
        }
      ]
    },
    {
      "cell_type": "code",
      "metadata": {
        "id": "yx0hRya7SBJS"
      },
      "source": [
        "if IN_COLAB:\n",
        "  BASE = '/content/gdrive/My Drive/cancer_detection/metastatic_cancer'\n",
        "else:\n",
        "  BASE = '.'"
      ],
      "execution_count": 10,
      "outputs": []
    },
    {
      "cell_type": "code",
      "metadata": {
        "_uuid": "cada1e5e63e66eaccab61c40422b7d7f8fc481c6",
        "id": "n6iVWIE6HyF-"
      },
      "source": [
        "# Output files\n",
        "model_type='inceptionv3'\n",
        "no_of_images = 'all'\n",
        "EPOCHS = 25\n",
        "\n",
        "if IN_COLAB:\n",
        "  PLOTS = 'plots_'+ TF_VERSION + '_google_collab'\n",
        "  VERSION = TF_VERSION\n",
        "else:\n",
        "  PLOTS = 'plots_' + TF_VERSION\n",
        "  VERSION = TF_VERSION\n",
        "  \n",
        "_APPEND = '_' + model_type + '_' + str(no_of_images) + '_' + str(EPOCHS)  \n",
        "APPEND = _APPEND + \".png\"\n",
        "\n",
        "\n",
        "if IN_COLAB:\n",
        "  if not os.path.exists(BASE + \"/training_logs_\" + VERSION):\n",
        "    os.mkdir(BASE + \"/training_logs_\" + VERSION)\n",
        "\n",
        "  if not os.path.exists(BASE + \"/model_summary/\"):\n",
        "    os.mkdir(BASE + \"/model_summary/\")\n",
        "  if not os.path.exists(BASE + \"/model_summary/\" + \"model_summary_\" + VERSION):\n",
        "    os.mkdir(BASE + \"/model_summary/\" + \"model_summary_\" + VERSION)\n",
        "  if not os.path.exists(BASE + '/' + PLOTS):\n",
        "    os.mkdir(BASE + '/' + PLOTS)\n",
        "if IN_COLAB:\n",
        "  TRAINING_LOGS_FILE = BASE + \"/training_logs_\" + VERSION + '/training_logs' + _APPEND + '.csv'\n",
        "  MODEL_SUMMARY_FILE = BASE + \"/model_summary/\" \"model_summary_\" + VERSION + \"/model_summary\" + _APPEND + \".txt\"\n",
        "  MODEL_PLOT_FILE = BASE + '/' + PLOTS + \"/model_plot_\" + APPEND\n",
        "  MODEL_FILE = \"model_\" + VERSION + \"/model_\" + model_type + \"_all_collab.h5\"\n",
        "  TRAINING_PLOT_FILE = BASE + '/'+ PLOTS + \"/training\" +  APPEND\n",
        "  VALIDATION_PLOT_FILE = BASE + '/'+  PLOTS + \"/validation\" + APPEND\n",
        "  ROC_PLOT_FILE = BASE + '/'+  PLOTS + \"/roc\" + APPEND\n",
        "else:\n",
        "  TRAINING_LOGS_FILE = \"training_logs_\" + VERSION + '/training_logs' + _APPEND + '.csv'\n",
        "  MODEL_SUMMARY_FILE = \"model_summary_\" + VERSION + \"/model_summary\" + _APPEND + \".txt\"\n",
        "  MODEL_PLOT_FILE = PLOTS + \"/model_plot_\" + APPEND\n",
        "  MODEL_FILE = \"model_\" + VERSION + \"/model_\" + model_type + \"_all_collab.h5\"\n",
        "  TRAINING_PLOT_FILE = PLOTS + \"/training\" +  APPEND\n",
        "  VALIDATION_PLOT_FILE = PLOTS + \"/validation\" + APPEND\n",
        "  ROC_PLOT_FILE = PLOTS + \"/roc\" + APPEND"
      ],
      "execution_count": 14,
      "outputs": []
    },
    {
      "cell_type": "code",
      "metadata": {
        "_uuid": "6b8d7a9899440da705f78f32d5c7a94c9b5434fb",
        "id": "FlwpH4TJHyF-"
      },
      "source": [
        "# Hyperparams\n",
        "SAMPLE_COUNT = 85000\n",
        "#TRAINING_RATIO = 0.9\n",
        "IMAGE_SIZE = 96 \n",
        "IMAGE_SIZE2 = 224\n",
        "\n",
        "BATCH_SIZE = 192\n",
        "VERBOSITY = 1\n",
        "TESTING_BATCH_SIZE = 5000"
      ],
      "execution_count": 15,
      "outputs": []
    },
    {
      "cell_type": "code",
      "metadata": {
        "colab": {
          "base_uri": "https://localhost:8080/"
        },
        "id": "cr2fZ4-MpRen",
        "outputId": "60f98b5f-386d-48b3-dd1f-3e1f70762b73"
      },
      "source": [
        "import pathlib\n",
        "data_dir = pathlib.Path(BASE)\n",
        "data_dir"
      ],
      "execution_count": 16,
      "outputs": [
        {
          "output_type": "execute_result",
          "data": {
            "text/plain": [
              "PosixPath('/content/gdrive/My Drive/cancer_detection/metastatic_cancer')"
            ]
          },
          "metadata": {
            "tags": []
          },
          "execution_count": 16
        }
      ]
    },
    {
      "cell_type": "code",
      "metadata": {
        "id": "7Hk1VwtGqyaG"
      },
      "source": [
        "data_dir_training = pathlib.Path(BASE + '/training')"
      ],
      "execution_count": 17,
      "outputs": []
    },
    {
      "cell_type": "code",
      "metadata": {
        "id": "SppioLrJppVT",
        "colab": {
          "base_uri": "https://localhost:8080/"
        },
        "outputId": "831c9ccc-0d52-4ac4-b1ae-60ebaf82f9d5"
      },
      "source": [
        "image_count = len(list(data_dir_training.glob('*/*.tif')))\n",
        "print(image_count)"
      ],
      "execution_count": 18,
      "outputs": [
        {
          "output_type": "stream",
          "text": [
            "360\n"
          ],
          "name": "stdout"
        }
      ]
    },
    {
      "cell_type": "code",
      "metadata": {
        "id": "Q5YxTVJ7p2n5",
        "colab": {
          "base_uri": "https://localhost:8080/",
          "height": 113
        },
        "outputId": "d2c40c2a-b71f-4251-fb65-a96ee11effbc"
      },
      "source": [
        "import PIL\n",
        "import PIL.Image\n",
        "zeros = list(data_dir_training.glob('0/*'))\n",
        "PIL.Image.open(str(zeros[0]))"
      ],
      "execution_count": 19,
      "outputs": [
        {
          "output_type": "execute_result",
          "data": {
            "image/png": "[encoded data removed]",
            "text/plain": [
              "<PIL.TiffImagePlugin.TiffImageFile image mode=RGB size=96x96 at 0x7F26E7C609D0>"
            ]
          },
          "metadata": {
            "tags": []
          },
          "execution_count": 19
        }
      ]
    },
    {
      "cell_type": "code",
      "metadata": {
        "id": "_oI1iq3bq8MC",
        "colab": {
          "base_uri": "https://localhost:8080/",
          "height": 113
        },
        "outputId": "d5b26b5a-91b8-4ad6-a513-7424a91ba416"
      },
      "source": [
        "import PIL\n",
        "import PIL.Image\n",
        "zeros = list(data_dir_training.glob('1/*'))\n",
        "PIL.Image.open(str(zeros[0]))"
      ],
      "execution_count": 20,
      "outputs": [
        {
          "output_type": "execute_result",
          "data": {
            "image/png": "[encoded data removed]",
            "text/plain": [
              "<PIL.TiffImagePlugin.TiffImageFile image mode=RGB size=96x96 at 0x7F26E740F5D0>"
            ]
          },
          "metadata": {
            "tags": []
          },
          "execution_count": 20
        }
      ]
    },
    {
      "cell_type": "code",
      "metadata": {
        "id": "6LT-GnPbHyF_"
      },
      "source": [
        "training_path=  BASE + '/training'\n",
        "validation_path = BASE + '/validation'"
      ],
      "execution_count": 21,
      "outputs": []
    },
    {
      "cell_type": "code",
      "metadata": {
        "_uuid": "cec14fe7a59727d5606263f17aeff81699d912e0",
        "id": "rspk8j2-HyF_"
      },
      "source": [
        "# Data augmentation\n",
        "training_data_generator = ImageDataGenerator(rescale=1./255,\n",
        "                                             horizontal_flip=True,\n",
        "                                             vertical_flip=True,\n",
        "                                             rotation_range=180,\n",
        "                                             zoom_range=0.4, \n",
        "                                             width_shift_range=0.3,\n",
        "                                             height_shift_range=0.3,\n",
        "                                             shear_range=0.3,\n",
        "                                             channel_shift_range=0.3)"
      ],
      "execution_count": 22,
      "outputs": []
    },
    {
      "cell_type": "code",
      "metadata": {
        "_uuid": "ccad1f37cc2bfae0ba735b0b8e1ddb20a5930dae",
        "colab": {
          "base_uri": "https://localhost:8080/"
        },
        "id": "AFtl0y8hHyGA",
        "outputId": "04b7782e-fce7-4cb8-8eb7-fbf7cc5fbfce"
      },
      "source": [
        "# Data generation\n",
        "training_generator = training_data_generator.flow_from_directory(training_path,\n",
        "                                                                 target_size=(IMAGE_SIZE2,IMAGE_SIZE2),\n",
        "                                                                 batch_size=BATCH_SIZE,\n",
        "                                                                 class_mode='binary')\n",
        "validation_generator = ImageDataGenerator(rescale=1./255).flow_from_directory(validation_path,\n",
        "                                                                              target_size=(IMAGE_SIZE2,\n",
        "                                                                                           IMAGE_SIZE2),\n",
        "                                                                              batch_size=BATCH_SIZE,\n",
        "                                                                              class_mode='binary')\n",
        "testing_generator = ImageDataGenerator(rescale=1./255).flow_from_directory(validation_path,\n",
        "                                                                           target_size=(IMAGE_SIZE2,IMAGE_SIZE2),\n",
        "                                                                           batch_size=BATCH_SIZE,\n",
        "                                                                           class_mode='binary',\n",
        "                                                                           shuffle=False)"
      ],
      "execution_count": 23,
      "outputs": [
        {
          "output_type": "stream",
          "text": [
            "Found 360 images belonging to 2 classes.\n",
            "Found 40 images belonging to 2 classes.\n",
            "Found 40 images belonging to 2 classes.\n"
          ],
          "name": "stdout"
        }
      ]
    },
    {
      "cell_type": "code",
      "metadata": {
        "colab": {
          "base_uri": "https://localhost:8080/"
        },
        "id": "qKu4kh-FHyGA",
        "outputId": "ff42034a-139d-4c65-c0cc-f63ba268e937"
      },
      "source": [
        "import tensorflow as tf\n",
        "print(tf.__version__)"
      ],
      "execution_count": 24,
      "outputs": [
        {
          "output_type": "stream",
          "text": [
            "2.5.0\n"
          ],
          "name": "stdout"
        }
      ]
    },
    {
      "cell_type": "code",
      "metadata": {
        "_uuid": "1dd6a67856557351a02e4ebcfc87e1c94c7706dc",
        "colab": {
          "base_uri": "https://localhost:8080/",
          "height": 924
        },
        "id": "sdNk9O5KHyGB",
        "outputId": "e178e4b8-ca4c-4ae1-99d8-4707273fdb37"
      },
      "source": [
        "# Model\n",
        "input_shape = (IMAGE_SIZE2, IMAGE_SIZE2, 3)\n",
        "inputs = Input(input_shape)\n",
        "\n",
        "inceptionv3 = InceptionV3(include_top=False, input_shape=(224, 224, 3))(inputs) \n",
        "outputs = GlobalAveragePooling2D()(inceptionv3)\n",
        "outputs = Dropout(0.5)(outputs)\n",
        "outputs = Dense(1, activation='sigmoid')(outputs)\n",
        "\n",
        "model = Model(inputs, outputs)\n",
        "model.compile(optimizer=Adam(lr=0.0001, decay=0.00001),\n",
        "              loss='binary_crossentropy',\n",
        "              metrics=['accuracy'])\n",
        "model.summary()\n",
        "\n",
        "plot_model(model,\n",
        "           to_file=MODEL_PLOT_FILE,\n",
        "           show_shapes=True,\n",
        "           show_layer_names=True)"
      ],
      "execution_count": 25,
      "outputs": [
        {
          "output_type": "stream",
          "text": [
            "Downloading data from https://storage.googleapis.com/tensorflow/keras-applications/inception_v3/inception_v3_weights_tf_dim_ordering_tf_kernels_notop.h5\n",
            "87916544/87910968 [==============================] - 0s 0us/step\n"
          ],
          "name": "stdout"
        },
        {
          "output_type": "stream",
          "text": [
            "/usr/local/lib/python3.7/dist-packages/tensorflow/python/keras/optimizer_v2/optimizer_v2.py:375: UserWarning: The `lr` argument is deprecated, use `learning_rate` instead.\n",
            "  \"The `lr` argument is deprecated, use `learning_rate` instead.\")\n"
          ],
          "name": "stderr"
        },
        {
          "output_type": "stream",
          "text": [
            "Model: \"model\"\n",
            "_________________________________________________________________\n",
            "Layer (type)                 Output Shape              Param #   \n",
            "=================================================================\n",
            "input_1 (InputLayer)         [(None, 224, 224, 3)]     0         \n",
            "_________________________________________________________________\n",
            "inception_v3 (Functional)    (None, 5, 5, 2048)        21802784  \n",
            "_________________________________________________________________\n",
            "global_average_pooling2d (Gl (None, 2048)              0         \n",
            "_________________________________________________________________\n",
            "dropout (Dropout)            (None, 2048)              0         \n",
            "_________________________________________________________________\n",
            "dense (Dense)                (None, 1)                 2049      \n",
            "=================================================================\n",
            "Total params: 21,804,833\n",
            "Trainable params: 21,770,401\n",
            "Non-trainable params: 34,432\n",
            "_________________________________________________________________\n"
          ],
          "name": "stdout"
        },
        {
          "output_type": "execute_result",
          "data": {
            "image/png": "[encoded data removed]",
            "text/plain": [
              "<IPython.core.display.Image object>"
            ]
          },
          "metadata": {
            "tags": []
          },
          "execution_count": 25
        }
      ]
    },
    {
      "cell_type": "code",
      "metadata": {
        "id": "SGgoZS1RHyGB"
      },
      "source": [
        "import os\n",
        "if not os.path.exists(\"training_logs_\" + VERSION):\n",
        "    os.makedirs(\"training_logs_\" + VERSION)\n",
        "file = open(TRAINING_LOGS_FILE, 'w+')"
      ],
      "execution_count": 26,
      "outputs": []
    },
    {
      "cell_type": "code",
      "metadata": {
        "id": "4ehM_PxwCOnJ",
        "colab": {
          "base_uri": "https://localhost:8080/"
        },
        "outputId": "5b9d6ce5-8009-4d28-c2d2-f95d30984f34"
      },
      "source": [
        "history = model.fit(training_generator,\n",
        "                              steps_per_epoch=len(training_generator), \n",
        "                              validation_data=validation_generator,\n",
        "                              validation_steps=len(validation_generator),\n",
        "                              epochs=EPOCHS,\n",
        "                              verbose=VERBOSITY,\n",
        "                              callbacks=[#PlotLossesKeras(),\n",
        "                                         ModelCheckpoint(MODEL_FILE,\n",
        "                                                         monitor='val_accuracy',\n",
        "                                                         verbose=VERBOSITY,\n",
        "                                                         save_best_only=True,\n",
        "                                                         mode='max'),\n",
        "                                         CSVLogger(TRAINING_LOGS_FILE,\n",
        "                                                   append=True,\n",
        "                                                   separator=';')\n",
        "                              ])"
      ],
      "execution_count": 27,
      "outputs": [
        {
          "output_type": "stream",
          "text": [
            "Epoch 1/25\n",
            "2/2 [==============================] - 73s 20s/step - loss: 0.7313 - accuracy: 0.5139 - val_loss: 0.6153 - val_accuracy: 0.6500\n",
            "\n",
            "Epoch 00001: val_accuracy improved from -inf to 0.65000, saving model to model_2.5.0/model_inceptionv3_all_collab.h5\n",
            "Epoch 2/25\n",
            "2/2 [==============================] - 20s 10s/step - loss: 0.6522 - accuracy: 0.6250 - val_loss: 0.5686 - val_accuracy: 0.7500\n",
            "\n",
            "Epoch 00002: val_accuracy improved from 0.65000 to 0.75000, saving model to model_2.5.0/model_inceptionv3_all_collab.h5\n",
            "Epoch 3/25\n",
            "2/2 [==============================] - 21s 9s/step - loss: 0.5434 - accuracy: 0.7417 - val_loss: 0.6033 - val_accuracy: 0.6500\n",
            "\n",
            "Epoch 00003: val_accuracy did not improve from 0.75000\n",
            "Epoch 4/25\n",
            "2/2 [==============================] - 20s 8s/step - loss: 0.5113 - accuracy: 0.7639 - val_loss: 0.6397 - val_accuracy: 0.6500\n",
            "\n",
            "Epoch 00004: val_accuracy did not improve from 0.75000\n",
            "Epoch 5/25\n",
            "2/2 [==============================] - 20s 9s/step - loss: 0.4856 - accuracy: 0.7528 - val_loss: 0.6521 - val_accuracy: 0.6750\n",
            "\n",
            "Epoch 00005: val_accuracy did not improve from 0.75000\n",
            "Epoch 6/25\n",
            "2/2 [==============================] - 19s 9s/step - loss: 0.4623 - accuracy: 0.7694 - val_loss: 0.6354 - val_accuracy: 0.6750\n",
            "\n",
            "Epoch 00006: val_accuracy did not improve from 0.75000\n",
            "Epoch 7/25\n",
            "2/2 [==============================] - 20s 10s/step - loss: 0.4322 - accuracy: 0.8167 - val_loss: 0.5903 - val_accuracy: 0.6750\n",
            "\n",
            "Epoch 00007: val_accuracy did not improve from 0.75000\n",
            "Epoch 8/25\n",
            "2/2 [==============================] - 20s 10s/step - loss: 0.4334 - accuracy: 0.8000 - val_loss: 0.5436 - val_accuracy: 0.7250\n",
            "\n",
            "Epoch 00008: val_accuracy did not improve from 0.75000\n",
            "Epoch 9/25\n",
            "2/2 [==============================] - 20s 8s/step - loss: 0.4324 - accuracy: 0.8111 - val_loss: 0.5080 - val_accuracy: 0.7500\n",
            "\n",
            "Epoch 00009: val_accuracy did not improve from 0.75000\n",
            "Epoch 10/25\n",
            "2/2 [==============================] - 20s 8s/step - loss: 0.3567 - accuracy: 0.8472 - val_loss: 0.4802 - val_accuracy: 0.7750\n",
            "\n",
            "Epoch 00010: val_accuracy improved from 0.75000 to 0.77500, saving model to model_2.5.0/model_inceptionv3_all_collab.h5\n",
            "Epoch 11/25\n",
            "2/2 [==============================] - 20s 9s/step - loss: 0.3957 - accuracy: 0.8500 - val_loss: 0.4565 - val_accuracy: 0.8000\n",
            "\n",
            "Epoch 00011: val_accuracy improved from 0.77500 to 0.80000, saving model to model_2.5.0/model_inceptionv3_all_collab.h5\n",
            "Epoch 12/25\n",
            "2/2 [==============================] - 20s 10s/step - loss: 0.3423 - accuracy: 0.8556 - val_loss: 0.4360 - val_accuracy: 0.8250\n",
            "\n",
            "Epoch 00012: val_accuracy improved from 0.80000 to 0.82500, saving model to model_2.5.0/model_inceptionv3_all_collab.h5\n",
            "Epoch 13/25\n",
            "2/2 [==============================] - 19s 9s/step - loss: 0.3323 - accuracy: 0.8833 - val_loss: 0.4233 - val_accuracy: 0.8250\n",
            "\n",
            "Epoch 00013: val_accuracy did not improve from 0.82500\n",
            "Epoch 14/25\n",
            "2/2 [==============================] - 20s 9s/step - loss: 0.3129 - accuracy: 0.8611 - val_loss: 0.4256 - val_accuracy: 0.8000\n",
            "\n",
            "Epoch 00014: val_accuracy did not improve from 0.82500\n",
            "Epoch 15/25\n",
            "2/2 [==============================] - 20s 8s/step - loss: 0.3527 - accuracy: 0.8417 - val_loss: 0.4271 - val_accuracy: 0.8000\n",
            "\n",
            "Epoch 00015: val_accuracy did not improve from 0.82500\n",
            "Epoch 16/25\n",
            "2/2 [==============================] - 20s 9s/step - loss: 0.3441 - accuracy: 0.8333 - val_loss: 0.4235 - val_accuracy: 0.8000\n",
            "\n",
            "Epoch 00016: val_accuracy did not improve from 0.82500\n",
            "Epoch 17/25\n",
            "2/2 [==============================] - 20s 9s/step - loss: 0.2645 - accuracy: 0.8806 - val_loss: 0.4158 - val_accuracy: 0.8000\n",
            "\n",
            "Epoch 00017: val_accuracy did not improve from 0.82500\n",
            "Epoch 18/25\n",
            "2/2 [==============================] - 21s 9s/step - loss: 0.3025 - accuracy: 0.8556 - val_loss: 0.4084 - val_accuracy: 0.8000\n",
            "\n",
            "Epoch 00018: val_accuracy did not improve from 0.82500\n",
            "Epoch 19/25\n",
            "2/2 [==============================] - 20s 8s/step - loss: 0.2757 - accuracy: 0.8861 - val_loss: 0.4037 - val_accuracy: 0.8000\n",
            "\n",
            "Epoch 00019: val_accuracy did not improve from 0.82500\n",
            "Epoch 20/25\n",
            "2/2 [==============================] - 20s 8s/step - loss: 0.2823 - accuracy: 0.8722 - val_loss: 0.4095 - val_accuracy: 0.8000\n",
            "\n",
            "Epoch 00020: val_accuracy did not improve from 0.82500\n",
            "Epoch 21/25\n",
            "2/2 [==============================] - 20s 9s/step - loss: 0.2538 - accuracy: 0.9000 - val_loss: 0.4185 - val_accuracy: 0.8750\n",
            "\n",
            "Epoch 00021: val_accuracy improved from 0.82500 to 0.87500, saving model to model_2.5.0/model_inceptionv3_all_collab.h5\n",
            "Epoch 22/25\n",
            "2/2 [==============================] - 20s 10s/step - loss: 0.2689 - accuracy: 0.8944 - val_loss: 0.4252 - val_accuracy: 0.8750\n",
            "\n",
            "Epoch 00022: val_accuracy did not improve from 0.87500\n",
            "Epoch 23/25\n",
            "2/2 [==============================] - 20s 9s/step - loss: 0.2243 - accuracy: 0.8861 - val_loss: 0.4390 - val_accuracy: 0.8750\n",
            "\n",
            "Epoch 00023: val_accuracy did not improve from 0.87500\n",
            "Epoch 24/25\n",
            "2/2 [==============================] - 20s 9s/step - loss: 0.2424 - accuracy: 0.9056 - val_loss: 0.4493 - val_accuracy: 0.8750\n",
            "\n",
            "Epoch 00024: val_accuracy did not improve from 0.87500\n",
            "Epoch 25/25\n",
            "2/2 [==============================] - 21s 10s/step - loss: 0.2211 - accuracy: 0.9222 - val_loss: 0.4536 - val_accuracy: 0.8750\n",
            "\n",
            "Epoch 00025: val_accuracy did not improve from 0.87500\n"
          ],
          "name": "stdout"
        }
      ]
    },
    {
      "cell_type": "code",
      "metadata": {
        "scrolled": true,
        "colab": {
          "base_uri": "https://localhost:8080/"
        },
        "id": "UdftsY2oHyGC",
        "outputId": "709e73ab-ef35-4c51-a123-ae23d0568874"
      },
      "source": [
        "history.history"
      ],
      "execution_count": 28,
      "outputs": [
        {
          "output_type": "execute_result",
          "data": {
            "text/plain": [
              "{'accuracy': [0.5138888955116272,\n",
              "  0.625,\n",
              "  0.7416666746139526,\n",
              "  0.7638888955116272,\n",
              "  0.7527777552604675,\n",
              "  0.769444465637207,\n",
              "  0.8166666626930237,\n",
              "  0.800000011920929,\n",
              "  0.8111110925674438,\n",
              "  0.8472222089767456,\n",
              "  0.8500000238418579,\n",
              "  0.855555534362793,\n",
              "  0.8833333253860474,\n",
              "  0.8611111044883728,\n",
              "  0.8416666388511658,\n",
              "  0.8333333134651184,\n",
              "  0.8805555701255798,\n",
              "  0.855555534362793,\n",
              "  0.8861111402511597,\n",
              "  0.8722222447395325,\n",
              "  0.8999999761581421,\n",
              "  0.894444465637207,\n",
              "  0.8861111402511597,\n",
              "  0.9055555462837219,\n",
              "  0.9222221970558167],\n",
              " 'loss': [0.7313178181648254,\n",
              "  0.6521949172019958,\n",
              "  0.5434184074401855,\n",
              "  0.5113205909729004,\n",
              "  0.4856407642364502,\n",
              "  0.4623008370399475,\n",
              "  0.43217960000038147,\n",
              "  0.4333922863006592,\n",
              "  0.4323711097240448,\n",
              "  0.3566882312297821,\n",
              "  0.39572787284851074,\n",
              "  0.34233495593070984,\n",
              "  0.3323010802268982,\n",
              "  0.3128684461116791,\n",
              "  0.35271164774894714,\n",
              "  0.3440568447113037,\n",
              "  0.26451143622398376,\n",
              "  0.302501380443573,\n",
              "  0.27567440271377563,\n",
              "  0.28234270215034485,\n",
              "  0.2538124918937683,\n",
              "  0.2689392566680908,\n",
              "  0.22429074347019196,\n",
              "  0.24241657555103302,\n",
              "  0.22113151848316193],\n",
              " 'val_accuracy': [0.6499999761581421,\n",
              "  0.75,\n",
              "  0.6499999761581421,\n",
              "  0.6499999761581421,\n",
              "  0.675000011920929,\n",
              "  0.675000011920929,\n",
              "  0.675000011920929,\n",
              "  0.7250000238418579,\n",
              "  0.75,\n",
              "  0.7749999761581421,\n",
              "  0.800000011920929,\n",
              "  0.824999988079071,\n",
              "  0.824999988079071,\n",
              "  0.800000011920929,\n",
              "  0.800000011920929,\n",
              "  0.800000011920929,\n",
              "  0.800000011920929,\n",
              "  0.800000011920929,\n",
              "  0.800000011920929,\n",
              "  0.800000011920929,\n",
              "  0.875,\n",
              "  0.875,\n",
              "  0.875,\n",
              "  0.875,\n",
              "  0.875],\n",
              " 'val_loss': [0.6153212785720825,\n",
              "  0.5686197280883789,\n",
              "  0.6032842397689819,\n",
              "  0.6397335529327393,\n",
              "  0.652076244354248,\n",
              "  0.6354278326034546,\n",
              "  0.5903266072273254,\n",
              "  0.5436487197875977,\n",
              "  0.5080206394195557,\n",
              "  0.4802073538303375,\n",
              "  0.45651936531066895,\n",
              "  0.4360455870628357,\n",
              "  0.4233018755912781,\n",
              "  0.4256066679954529,\n",
              "  0.42708802223205566,\n",
              "  0.42349833250045776,\n",
              "  0.41581016778945923,\n",
              "  0.4083603024482727,\n",
              "  0.4037110209465027,\n",
              "  0.4095171093940735,\n",
              "  0.41854745149612427,\n",
              "  0.42524752020835876,\n",
              "  0.43899697065353394,\n",
              "  0.44928354024887085,\n",
              "  0.4535849094390869]}"
            ]
          },
          "metadata": {
            "tags": []
          },
          "execution_count": 28
        }
      ]
    },
    {
      "cell_type": "code",
      "metadata": {
        "_uuid": "dd1582290e369f0f6bed6c6856a1c850b6ec3ef4",
        "colab": {
          "base_uri": "https://localhost:8080/",
          "height": 294
        },
        "id": "sZmHE_rWHyGC",
        "outputId": "ec41689b-42d9-4de3-dc3d-74ffb9150e3c"
      },
      "source": [
        "# Training plots\n",
        "common_title = model_type + ' with ' + str(no_of_images) + ' samples'\n",
        "epochs = [i for i in range(1, len(history.history['loss'])+1)]\n",
        "\n",
        "plt.plot(epochs, history.history['loss'], color='blue', label=\"training_loss\")\n",
        "plt.plot(epochs, history.history['val_loss'], color='red', label=\"validation_loss\")\n",
        "plt.legend(loc='best')\n",
        "#plt.title('training: ' + common_title)\n",
        "plt.xlabel('epoch')\n",
        "plt.savefig(TRAINING_PLOT_FILE, bbox_inches='tight')\n",
        "plt.close()\n",
        "\n",
        "plt.plot(epochs, history.history['accuracy'], color='blue', label=\"training_accuracy\")\n",
        "plt.plot(epochs, history.history['val_accuracy'], color='red',label=\"validation_accuracy\")\n",
        "plt.legend(loc='best')\n",
        "plt.title('Validation (TF 2.5.0): ' + common_title )\n",
        "plt.xlabel('epoch')\n",
        "plt.savefig(VALIDATION_PLOT_FILE, bbox_inches='tight')\n",
        "plt.show()\n",
        "plt.close()"
      ],
      "execution_count": 29,
      "outputs": [
        {
          "output_type": "display_data",
          "data": {
            "image/png": "[encoded data removed]",
            "text/plain": [
              "<Figure size 432x288 with 1 Axes>"
            ]
          },
          "metadata": {
            "tags": [],
            "needs_background": "light"
          }
        }
      ]
    },
    {
      "cell_type": "code",
      "metadata": {
        "_uuid": "7d366ba6530d8d2ae88f9a2947abb38c15e040a3",
        "colab": {
          "base_uri": "https://localhost:8080/",
          "height": 367
        },
        "id": "j8k-tzm9HyGD",
        "outputId": "ca3e84b5-9b0b-4d22-cdb7-5e870f61b4a3"
      },
      "source": [
        "# ROC testing plot\n",
        "#model.load_weights(MODEL_FILE)\n",
        "predictions = model.predict_generator(testing_generator, steps=len(testing_generator), verbose=VERBOSITY)\n",
        "false_positive_rate, true_positive_rate, threshold = roc_curve(testing_generator.classes, predictions)\n",
        "area_under_curve = auc(false_positive_rate, true_positive_rate)\n",
        "\n",
        "plt.plot([0, 1], [0, 1], 'k--')\n",
        "plt.plot(false_positive_rate, true_positive_rate, label='AUC = {:.3f}'.format(area_under_curve))\n",
        "plt.xlabel('False positive rate')\n",
        "plt.ylabel('True positive rate')\n",
        "plt.title('ROC curve: ' + common_title + ' TF 2.5.0')\n",
        "plt.legend(loc='best')\n",
        "plt.savefig(ROC_PLOT_FILE, bbox_inches='tight')\n",
        "plt.show()\n",
        "plt.close()"
      ],
      "execution_count": 30,
      "outputs": [
        {
          "output_type": "stream",
          "text": [
            "/usr/local/lib/python3.7/dist-packages/tensorflow/python/keras/engine/training.py:2001: UserWarning: `Model.predict_generator` is deprecated and will be removed in a future version. Please use `Model.predict`, which supports generators.\n",
            "  warnings.warn('`Model.predict_generator` is deprecated and '\n"
          ],
          "name": "stderr"
        },
        {
          "output_type": "stream",
          "text": [
            "1/1 [==============================] - 1s 1s/step\n"
          ],
          "name": "stdout"
        },
        {
          "output_type": "display_data",
          "data": {
            "image/png": "[encoded data removed]",
            "text/plain": [
              "<Figure size 432x288 with 1 Axes>"
            ]
          },
          "metadata": {
            "tags": [],
            "needs_background": "light"
          }
        }
      ]
    },
    {
      "cell_type": "code",
      "metadata": {
        "id": "O4w6ooqJHyGD"
      },
      "source": [
        ""
      ],
      "execution_count": null,
      "outputs": []
    }
  ]
}