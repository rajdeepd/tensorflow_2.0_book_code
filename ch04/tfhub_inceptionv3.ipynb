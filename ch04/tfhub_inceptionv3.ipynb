{
 "cells": [
  {
   "cell_type": "code",
   "execution_count": null,
   "metadata": {},
   "outputs": [],
   "source": [
    "!python3 -m pip install \"tensorflow_hub>=0.6.0\""
   ]
  },
  {
   "cell_type": "code",
   "execution_count": null,
   "metadata": {},
   "outputs": [],
   "source": [
    "import tensorflow as tf\n",
    "import tensorflow_hub as hub"
   ]
  },
  {
   "cell_type": "code",
   "execution_count": null,
   "metadata": {},
   "outputs": [],
   "source": [
    "url = \"https://tfhub.dev/google/tf2-preview/inception_v3/feature_vector/2\"\n",
    "hub_feature_extractor = hub.KerasLayer( # TF-Hub model as Layer\n",
    "    url, # URL of the TF-Hub model (here, an InceptionV3 extractor)\n",
    "    trainable=False, # Flag to set the layers as trainable or not\n",
    "    input_shape=(299, 299, 3), # Expected input shape (found on tfhub.dev)\n",
    "    output_shape=(2048,), # Output shape (same, found on the model's page)\n",
    "    dtype=tf.float32) # Expected dtype\n",
    "\n",
    "inception_model = Sequential(\n",
    "    [hub_feature_extractor, Dense(num_classes, activation='softmax')], \n",
    "    name=\"inception_tf_hub\")"
   ]
  },
  {
   "cell_type": "code",
   "execution_count": null,
   "metadata": {},
   "outputs": [],
   "source": []
  }
 ],
 "metadata": {
  "kernelspec": {
   "display_name": "Python 3",
   "language": "python",
   "name": "python3"
  },
  "language_info": {
   "codemirror_mode": {
    "name": "ipython",
    "version": 3
   },
   "file_extension": ".py",
   "mimetype": "text/x-python",
   "name": "python",
   "nbconvert_exporter": "python",
   "pygments_lexer": "ipython3",
   "version": "3.7.4"
  }
 },
 "nbformat": 4,
 "nbformat_minor": 2
}
