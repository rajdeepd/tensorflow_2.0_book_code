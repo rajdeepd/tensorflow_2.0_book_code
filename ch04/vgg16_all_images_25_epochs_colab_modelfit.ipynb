{
  "nbformat": 4,
  "nbformat_minor": 0,
  "metadata": {
    "kernelspec": {
      "display_name": "Python 3",
      "language": "python",
      "name": "python3"
    },
    "language_info": {
      "codemirror_mode": {
        "name": "ipython",
        "version": 3
      },
      "file_extension": ".py",
      "mimetype": "text/x-python",
      "name": "python",
      "nbconvert_exporter": "python",
      "pygments_lexer": "ipython3",
      "version": "3.7.4"
    },
    "colab": {
      "name": "vgg16_all_images_25_epochs_colab_modelfit.ipynb",
      "provenance": [],
      "machine_shape": "hm",
      "include_colab_link": true
    },
    "accelerator": "GPU"
  },
  "cells": [
    {
      "cell_type": "markdown",
      "metadata": {
        "id": "view-in-github",
        "colab_type": "text"
      },
      "source": [
        "<a href=\"https://colab.research.google.com/github/rajdeepd/tensorflow_2.0_book_code/blob/master/ch04/vgg16_all_images_25_epochs_colab_modelfit.ipynb\" target=\"_parent\"><img src=\"https://colab.research.google.com/assets/colab-badge.svg\" alt=\"Open In Colab\"/></a>"
      ]
    },
    {
      "cell_type": "code",
      "metadata": {
        "id": "ecwHijp-HyF0"
      },
      "source": [
        "import sys\n",
        "IN_COLAB = 'google.colab' in sys.modules\n",
        "print('Google Colab? ' + str(IN_COLAB))\n",
        "\n",
        "if not IN_COLAB:\n",
        "#!python -m pip show tensorflow\n",
        "  !which python\n",
        "  !python -m pip show tensorflow"
      ],
      "execution_count": null,
      "outputs": []
    },
    {
      "cell_type": "code",
      "metadata": {
        "colab": {
          "base_uri": "https://localhost:8080/"
        },
        "id": "OyiuZWNI29uM",
        "outputId": "6c045e20-0d66-48ef-9a70-31a18072c295"
      },
      "source": [
        "!pwd"
      ],
      "execution_count": 2,
      "outputs": [
        {
          "output_type": "stream",
          "name": "stdout",
          "text": [
            "/content\n"
          ]
        }
      ]
    },
    {
      "cell_type": "code",
      "metadata": {
        "colab": {
          "base_uri": "https://localhost:8080/"
        },
        "id": "r78p-VqYICcr",
        "outputId": "f3692a84-05a2-4cfd-abf8-ef3d6d217dde"
      },
      "source": [
        "\n",
        "\n",
        "from google.colab import drive\n",
        "drive.mount(\"/content/gdrive\")\n"
      ],
      "execution_count": 3,
      "outputs": [
        {
          "output_type": "stream",
          "name": "stdout",
          "text": [
            "Mounted at /content/gdrive\n"
          ]
        }
      ]
    },
    {
      "cell_type": "code",
      "metadata": {
        "colab": {
          "base_uri": "https://localhost:8080/"
        },
        "id": "Zw9hxoLhQFEV",
        "outputId": "c1724f63-644c-4f13-f236-bf0110ac2266"
      },
      "source": [
        "!ls \"/content/gdrive/My Drive/cancer_detection/metastatic_cancer\""
      ],
      "execution_count": 4,
      "outputs": [
        {
          "output_type": "stream",
          "name": "stdout",
          "text": [
            "model_summary\t\t   plots_2.6.0_google_collab  training_logs_2.5.0\n",
            "plots_2.4.1_google_collab  training\t\t      training_logs_2.6.0\n",
            "plots_2.5.0_google_collab  training_logs_2.4.1\t      validation\n"
          ]
        }
      ]
    },
    {
      "cell_type": "code",
      "metadata": {
        "_uuid": "812221f6046eb6002d9835e040d8d50675c4718e",
        "id": "m8VUETGpHyF6"
      },
      "source": [
        "%matplotlib inline"
      ],
      "execution_count": 5,
      "outputs": []
    },
    {
      "cell_type": "code",
      "metadata": {
        "colab": {
          "base_uri": "https://localhost:8080/",
          "height": 35
        },
        "id": "XP8giC12HyF7",
        "outputId": "8fcc9a83-2496-4fa0-ec61-e98e8e4ff5dc"
      },
      "source": [
        "import sys\n",
        "sys.executable"
      ],
      "execution_count": 6,
      "outputs": [
        {
          "output_type": "execute_result",
          "data": {
            "application/vnd.google.colaboratory.intrinsic+json": {
              "type": "string"
            },
            "text/plain": [
              "'/usr/bin/python3'"
            ]
          },
          "metadata": {},
          "execution_count": 6
        }
      ]
    },
    {
      "cell_type": "markdown",
      "metadata": {
        "id": "FYucnxApHyF8"
      },
      "source": [
        "https://www.tensorflow.org/versions/r2.0/api_docs/python/tf/keras/applications/vgg19"
      ]
    },
    {
      "cell_type": "code",
      "metadata": {
        "_cell_guid": "b1076dfc-b9ad-4769-8c92-a6c4dae69d19",
        "_kg_hide-input": false,
        "_kg_hide-output": false,
        "_uuid": "8f2839f25d086af736a60e9eeb907d3b93b6e0e5",
        "id": "N1wRW5odHyF9"
      },
      "source": [
        "# Imports\n",
        "import numpy as np \n",
        "import pandas as pd \n",
        "from glob import glob \n",
        "from skimage.io import imread \n",
        "import os\n",
        "import shutil\n",
        "import matplotlib.pyplot as plt\n",
        "from sklearn.metrics import roc_curve, auc, roc_auc_score\n",
        "from sklearn.model_selection import train_test_split\n",
        "from tensorflow.keras.preprocessing.image import ImageDataGenerator\n",
        "from tensorflow.keras.applications.vgg16 import VGG16\n",
        "from tensorflow.keras.utils import plot_model\n",
        "from tensorflow.keras.layers import Dropout, Flatten, Dense, GlobalAveragePooling2D, Average, Input, Concatenate, GlobalMaxPooling2D\n",
        "from tensorflow.keras.models import Model\n",
        "from tensorflow.keras.callbacks import CSVLogger, ModelCheckpoint\n",
        "from tensorflow.keras.optimizers import Adam"
      ],
      "execution_count": 7,
      "outputs": []
    },
    {
      "cell_type": "code",
      "metadata": {
        "id": "cKRXChRbQyLE"
      },
      "source": [
        "#!pip show tensorflow"
      ],
      "execution_count": null,
      "outputs": []
    },
    {
      "cell_type": "code",
      "metadata": {
        "id": "yx0hRya7SBJS"
      },
      "source": [
        "if IN_COLAB:\n",
        "  BASE = '/content/gdrive/My Drive/cancer_detection/metastatic_cancer'\n",
        "else:\n",
        "  BASE = '.'"
      ],
      "execution_count": 8,
      "outputs": []
    },
    {
      "cell_type": "code",
      "metadata": {
        "id": "9sdsBIGfGpEk",
        "outputId": "90d9af91-a1f4-41c7-e45a-32100d0b134b",
        "colab": {
          "base_uri": "https://localhost:8080/",
          "height": 35
        }
      },
      "source": [
        "import tensorflow\n",
        "tensorflow.__version__\n",
        "VERSION = tensorflow.__version__\n",
        "VERSION"
      ],
      "execution_count": 9,
      "outputs": [
        {
          "output_type": "execute_result",
          "data": {
            "application/vnd.google.colaboratory.intrinsic+json": {
              "type": "string"
            },
            "text/plain": [
              "'2.6.0'"
            ]
          },
          "metadata": {},
          "execution_count": 9
        }
      ]
    },
    {
      "cell_type": "code",
      "metadata": {
        "_uuid": "cada1e5e63e66eaccab61c40422b7d7f8fc481c6",
        "id": "n6iVWIE6HyF-"
      },
      "source": [
        "# Output files\n",
        "model_type='vgg16'\n",
        "no_of_images = 'all'\n",
        "EPOCHS = 25\n",
        "\n",
        "if IN_COLAB:\n",
        "  PLOTS = 'plots_2.6.0_google_collab'\n",
        "else:\n",
        "  PLOTS = 'plots_2.6.0'\n",
        "  \n",
        "_APPEND = '_' + model_type + '_' + str(no_of_images) + '_' + str(EPOCHS)  \n",
        "APPEND = _APPEND + \".png\"\n",
        "\n",
        "\n",
        "if IN_COLAB:\n",
        "  if not os.path.exists(BASE + \"/training_logs_\" + VERSION):\n",
        "    os.mkdir(BASE + \"/training_logs_\" + VERSION)\n",
        "\n",
        "  if not os.path.exists(BASE + \"/model_summary/\"):\n",
        "    os.mkdir(BASE + \"/model_summary/\")\n",
        "  if not os.path.exists(BASE + \"/model_summary/\" + \"model_summary_\" + VERSION):\n",
        "    os.mkdir(BASE + \"/model_summary/\" + \"model_summary_\" + VERSION)\n",
        "  if not os.path.exists(BASE + '/' + PLOTS):\n",
        "    os.mkdir(BASE + '/' + PLOTS)\n",
        "if IN_COLAB:\n",
        "  TRAINING_LOGS_FILE = BASE + \"/training_logs_\" + VERSION + '/training_logs' + _APPEND + '.csv'\n",
        "  MODEL_SUMMARY_FILE = BASE + \"/model_summary/\" \"model_summary_\" + VERSION + \"/model_summary\" + _APPEND + \".txt\"\n",
        "  MODEL_PLOT_FILE = BASE + '/' + PLOTS + \"/model_plot_\" + APPEND\n",
        "  MODEL_FILE = \"model_\" + VERSION + \"/model_vgg16_all_collab.h5\"\n",
        "  TRAINING_PLOT_FILE = BASE + '/'+ PLOTS + \"/training\" +  APPEND\n",
        "  VALIDATION_PLOT_FILE = BASE + '/'+  PLOTS + \"/validation\" + APPEND\n",
        "  ROC_PLOT_FILE = BASE + '/'+  PLOTS + \"/roc\" + APPEND\n",
        "else:\n",
        "  TRAINING_LOGS_FILE = \"training_logs_\" + VERSION + '/training_logs' + _APPEND + '.csv'\n",
        "  MODEL_SUMMARY_FILE = \"model_summary_\" + VERSION + \"/model_summary\" + _APPEND + \".txt\"\n",
        "  MODEL_PLOT_FILE = PLOTS + \"/model_plot_\" + APPEND\n",
        "  MODEL_FILE = \"model_\" + VERSION + \"/model_vgg16_all_collab.h5\"\n",
        "  TRAINING_PLOT_FILE = PLOTS + \"/training\" +  APPEND\n",
        "  VALIDATION_PLOT_FILE = PLOTS + \"/validation\" + APPEND\n",
        "  ROC_PLOT_FILE = PLOTS + \"/roc\" + APPEND"
      ],
      "execution_count": 10,
      "outputs": []
    },
    {
      "cell_type": "code",
      "metadata": {
        "_uuid": "6b8d7a9899440da705f78f32d5c7a94c9b5434fb",
        "id": "FlwpH4TJHyF-"
      },
      "source": [
        "# Hyperparams\n",
        "SAMPLE_COUNT = 85000\n",
        "#TRAINING_RATIO = 0.9\n",
        "IMAGE_SIZE = 96 \n",
        "IMAGE_SIZE2 = 224\n",
        "\n",
        "BATCH_SIZE = 192\n",
        "VERBOSITY = 1\n",
        "TESTING_BATCH_SIZE = 5000"
      ],
      "execution_count": 11,
      "outputs": []
    },
    {
      "cell_type": "code",
      "metadata": {
        "colab": {
          "base_uri": "https://localhost:8080/"
        },
        "id": "cr2fZ4-MpRen",
        "outputId": "9ee778be-0cec-455a-be0a-058e15fa3463"
      },
      "source": [
        "import pathlib\n",
        "data_dir = pathlib.Path(BASE)\n",
        "data_dir"
      ],
      "execution_count": 12,
      "outputs": [
        {
          "output_type": "execute_result",
          "data": {
            "text/plain": [
              "PosixPath('/content/gdrive/My Drive/cancer_detection/metastatic_cancer')"
            ]
          },
          "metadata": {},
          "execution_count": 12
        }
      ]
    },
    {
      "cell_type": "code",
      "metadata": {
        "id": "7Hk1VwtGqyaG"
      },
      "source": [
        "data_dir_training = pathlib.Path(BASE + '/training')"
      ],
      "execution_count": 13,
      "outputs": []
    },
    {
      "cell_type": "code",
      "metadata": {
        "id": "SppioLrJppVT",
        "colab": {
          "base_uri": "https://localhost:8080/"
        },
        "outputId": "a1223d46-bea9-44d3-f37a-d108612df468"
      },
      "source": [
        "image_count = len(list(data_dir_training.glob('*/*.tif')))\n",
        "print(image_count)"
      ],
      "execution_count": 14,
      "outputs": [
        {
          "output_type": "stream",
          "name": "stdout",
          "text": [
            "360\n"
          ]
        }
      ]
    },
    {
      "cell_type": "code",
      "metadata": {
        "id": "Q5YxTVJ7p2n5",
        "colab": {
          "base_uri": "https://localhost:8080/",
          "height": 113
        },
        "outputId": "b85472ed-0357-4fc2-8a0f-92ff679fbb25"
      },
      "source": [
        "import PIL\n",
        "import PIL.Image\n",
        "zeros = list(data_dir_training.glob('0/*'))\n",
        "PIL.Image.open(str(zeros[0]))"
      ],
      "execution_count": 15,
      "outputs": [
        {
          "output_type": "execute_result",
          "data": {
            "image/png": "[encoded data removed]",
            "text/plain": [
              "<PIL.TiffImagePlugin.TiffImageFile image mode=RGB size=96x96 at 0x7FE139344C50>"
            ]
          },
          "metadata": {},
          "execution_count": 15
        }
      ]
    },
    {
      "cell_type": "code",
      "metadata": {
        "id": "_oI1iq3bq8MC",
        "colab": {
          "base_uri": "https://localhost:8080/",
          "height": 113
        },
        "outputId": "e7ec9c3b-e756-4124-b00b-0e5a7200a35d"
      },
      "source": [
        "import PIL\n",
        "import PIL.Image\n",
        "zeros = list(data_dir_training.glob('1/*'))\n",
        "PIL.Image.open(str(zeros[0]))"
      ],
      "execution_count": 16,
      "outputs": [
        {
          "output_type": "execute_result",
          "data": {
            "image/png": "[encoded data removed]",
            "text/plain": [
              "<PIL.TiffImagePlugin.TiffImageFile image mode=RGB size=96x96 at 0x7FE195759BD0>"
            ]
          },
          "metadata": {},
          "execution_count": 16
        }
      ]
    },
    {
      "cell_type": "code",
      "metadata": {
        "id": "6LT-GnPbHyF_"
      },
      "source": [
        "training_path=  BASE + '/training'\n",
        "validation_path = BASE + '/validation'"
      ],
      "execution_count": 17,
      "outputs": []
    },
    {
      "cell_type": "code",
      "metadata": {
        "id": "ALPIkCdQHyF_"
      },
      "source": [
        "#training, validation = train_test_split(data_frame, train_size=TRAINING_RATIO, stratify=data_frame['label'])\n",
        "\n",
        "#data_frame.set_index('id', inplace=True)"
      ],
      "execution_count": null,
      "outputs": []
    },
    {
      "cell_type": "code",
      "metadata": {
        "_uuid": "cec14fe7a59727d5606263f17aeff81699d912e0",
        "id": "rspk8j2-HyF_"
      },
      "source": [
        "# Data augmentation\n",
        "training_data_generator = ImageDataGenerator(rescale=1./255,\n",
        "                                             horizontal_flip=True,\n",
        "                                             vertical_flip=True,\n",
        "                                             rotation_range=180,\n",
        "                                             zoom_range=0.4, \n",
        "                                             width_shift_range=0.3,\n",
        "                                             height_shift_range=0.3,\n",
        "                                             shear_range=0.3,\n",
        "                                             channel_shift_range=0.3)"
      ],
      "execution_count": 18,
      "outputs": []
    },
    {
      "cell_type": "code",
      "metadata": {
        "_uuid": "ccad1f37cc2bfae0ba735b0b8e1ddb20a5930dae",
        "colab": {
          "base_uri": "https://localhost:8080/"
        },
        "id": "AFtl0y8hHyGA",
        "outputId": "f78f796b-78a5-4cd6-c2d6-92fba69311d8"
      },
      "source": [
        "# Data generation\n",
        "training_generator = training_data_generator.flow_from_directory(training_path,\n",
        "                                                                 target_size=(IMAGE_SIZE2,IMAGE_SIZE2),\n",
        "                                                                 batch_size=BATCH_SIZE,\n",
        "                                                                 class_mode='binary')\n",
        "validation_generator = ImageDataGenerator(rescale=1./255).flow_from_directory(validation_path,\n",
        "                                                                              target_size=(IMAGE_SIZE2,\n",
        "                                                                                           IMAGE_SIZE2),\n",
        "                                                                              batch_size=BATCH_SIZE,\n",
        "                                                                              class_mode='binary')\n",
        "testing_generator = ImageDataGenerator(rescale=1./255).flow_from_directory(validation_path,\n",
        "                                                                           target_size=(IMAGE_SIZE2,IMAGE_SIZE2),\n",
        "                                                                           batch_size=BATCH_SIZE,\n",
        "                                                                           class_mode='binary',\n",
        "                                                                           shuffle=False)"
      ],
      "execution_count": 19,
      "outputs": [
        {
          "output_type": "stream",
          "name": "stdout",
          "text": [
            "Found 360 images belonging to 2 classes.\n",
            "Found 40 images belonging to 2 classes.\n",
            "Found 40 images belonging to 2 classes.\n"
          ]
        }
      ]
    },
    {
      "cell_type": "code",
      "metadata": {
        "colab": {
          "base_uri": "https://localhost:8080/"
        },
        "id": "qKu4kh-FHyGA",
        "outputId": "fbe793ea-e440-4d87-f669-8e4de6954320"
      },
      "source": [
        "import tensorflow as tf\n",
        "print(tf.__version__)"
      ],
      "execution_count": 20,
      "outputs": [
        {
          "output_type": "stream",
          "name": "stdout",
          "text": [
            "2.6.0\n"
          ]
        }
      ]
    },
    {
      "cell_type": "code",
      "metadata": {
        "_uuid": "1dd6a67856557351a02e4ebcfc87e1c94c7706dc",
        "colab": {
          "base_uri": "https://localhost:8080/",
          "height": 962
        },
        "id": "sdNk9O5KHyGB",
        "outputId": "f96fd2f6-64ac-4bbc-e478-89410fb8fdaf"
      },
      "source": [
        "# Model\n",
        "input_shape = (IMAGE_SIZE2, IMAGE_SIZE2, 3)\n",
        "inputs = Input(input_shape)\n",
        "\n",
        "vgg16 = VGG16(include_top=False, input_shape=(224, 224, 3))(inputs) \n",
        "outputs = GlobalAveragePooling2D()(vgg16)\n",
        "outputs = Dropout(0.5)(outputs)\n",
        "outputs = Dense(1, activation='sigmoid')(outputs)\n",
        "\n",
        "model = Model(inputs, outputs)\n",
        "model.compile(optimizer=Adam(lr=0.0001, decay=0.00001),\n",
        "              loss='binary_crossentropy',\n",
        "              metrics=['accuracy'])\n",
        "model.summary()\n",
        "\n",
        "plot_model(model,\n",
        "           to_file=MODEL_PLOT_FILE,\n",
        "           show_shapes=True,\n",
        "           show_layer_names=True)"
      ],
      "execution_count": 21,
      "outputs": [
        {
          "output_type": "stream",
          "name": "stdout",
          "text": [
            "Downloading data from https://storage.googleapis.com/tensorflow/keras-applications/vgg16/vgg16_weights_tf_dim_ordering_tf_kernels_notop.h5\n",
            "58892288/58889256 [==============================] - 0s 0us/step\n",
            "58900480/58889256 [==============================] - 0s 0us/step\n",
            "Model: \"model\"\n",
            "_________________________________________________________________\n",
            "Layer (type)                 Output Shape              Param #   \n",
            "=================================================================\n",
            "input_1 (InputLayer)         [(None, 224, 224, 3)]     0         \n",
            "_________________________________________________________________\n",
            "vgg16 (Functional)           (None, 7, 7, 512)         14714688  \n",
            "_________________________________________________________________\n",
            "global_average_pooling2d (Gl (None, 512)               0         \n",
            "_________________________________________________________________\n",
            "dropout (Dropout)            (None, 512)               0         \n",
            "_________________________________________________________________\n",
            "dense (Dense)                (None, 1)                 513       \n",
            "=================================================================\n",
            "Total params: 14,715,201\n",
            "Trainable params: 14,715,201\n",
            "Non-trainable params: 0\n",
            "_________________________________________________________________\n"
          ]
        },
        {
          "output_type": "stream",
          "name": "stderr",
          "text": [
            "/usr/local/lib/python3.7/dist-packages/keras/optimizer_v2/optimizer_v2.py:356: UserWarning: The `lr` argument is deprecated, use `learning_rate` instead.\n",
            "  \"The `lr` argument is deprecated, use `learning_rate` instead.\")\n"
          ]
        },
        {
          "output_type": "execute_result",
          "data": {
            "image/png": "[encoded data removed]",
            "text/plain": [
              "<IPython.core.display.Image object>"
            ]
          },
          "metadata": {},
          "execution_count": 21
        }
      ]
    },
    {
      "cell_type": "code",
      "metadata": {
        "id": "SGgoZS1RHyGB"
      },
      "source": [
        "import os\n",
        "if not os.path.exists(\"training_logs_\" + VERSION):\n",
        "    os.makedirs(\"training_logs_\" + VERSION)\n",
        "file = open(TRAINING_LOGS_FILE, 'w+')"
      ],
      "execution_count": 22,
      "outputs": []
    },
    {
      "cell_type": "code",
      "metadata": {
        "colab": {
          "base_uri": "https://localhost:8080/"
        },
        "id": "4ehM_PxwCOnJ",
        "outputId": "34474d41-6ec6-48df-e577-cd7a4d4ea939"
      },
      "source": [
        "history = model.fit(training_generator,\n",
        "                              steps_per_epoch=len(training_generator), \n",
        "                              validation_data=validation_generator,\n",
        "                              validation_steps=len(validation_generator),\n",
        "                              epochs=EPOCHS,\n",
        "                              verbose=VERBOSITY,\n",
        "                              callbacks=[#PlotLossesKeras(),\n",
        "                                         ModelCheckpoint(MODEL_FILE,\n",
        "                                                         monitor='val_accuracy',\n",
        "                                                         verbose=VERBOSITY,\n",
        "                                                         save_best_only=True,\n",
        "                                                         mode='max'),\n",
        "                                         CSVLogger(TRAINING_LOGS_FILE,\n",
        "                                                   append=True,\n",
        "                                                   separator=';')\n",
        "                              ])"
      ],
      "execution_count": 23,
      "outputs": [
        {
          "output_type": "stream",
          "name": "stdout",
          "text": [
            "Epoch 1/25\n",
            "2/2 [==============================] - 154s 120s/step - loss: 0.8283 - accuracy: 0.5111 - val_loss: 0.6966 - val_accuracy: 0.5000\n",
            "\n",
            "Epoch 00001: val_accuracy improved from -inf to 0.50000, saving model to model_2.6.0/model_vgg16_all_collab.h5\n",
            "Epoch 2/25\n",
            "2/2 [==============================] - 5s 2s/step - loss: 0.7407 - accuracy: 0.5139 - val_loss: 0.8878 - val_accuracy: 0.5750\n",
            "\n",
            "Epoch 00002: val_accuracy improved from 0.50000 to 0.57500, saving model to model_2.6.0/model_vgg16_all_collab.h5\n",
            "Epoch 3/25\n",
            "2/2 [==============================] - 6s 3s/step - loss: 0.7563 - accuracy: 0.6194 - val_loss: 0.7344 - val_accuracy: 0.5000\n",
            "\n",
            "Epoch 00003: val_accuracy did not improve from 0.57500\n",
            "Epoch 4/25\n",
            "2/2 [==============================] - 5s 2s/step - loss: 0.7849 - accuracy: 0.6083 - val_loss: 0.6887 - val_accuracy: 0.5000\n",
            "\n",
            "Epoch 00004: val_accuracy did not improve from 0.57500\n",
            "Epoch 5/25\n",
            "2/2 [==============================] - 5s 2s/step - loss: 0.7304 - accuracy: 0.5667 - val_loss: 0.6296 - val_accuracy: 0.5750\n",
            "\n",
            "Epoch 00005: val_accuracy did not improve from 0.57500\n",
            "Epoch 6/25\n",
            "2/2 [==============================] - 5s 3s/step - loss: 0.6798 - accuracy: 0.5361 - val_loss: 0.5847 - val_accuracy: 0.7500\n",
            "\n",
            "Epoch 00006: val_accuracy improved from 0.57500 to 0.75000, saving model to model_2.6.0/model_vgg16_all_collab.h5\n",
            "Epoch 7/25\n",
            "2/2 [==============================] - 6s 3s/step - loss: 0.6081 - accuracy: 0.6500 - val_loss: 0.6583 - val_accuracy: 0.7250\n",
            "\n",
            "Epoch 00007: val_accuracy did not improve from 0.75000\n",
            "Epoch 8/25\n",
            "2/2 [==============================] - 5s 2s/step - loss: 0.6135 - accuracy: 0.6917 - val_loss: 0.6327 - val_accuracy: 0.7750\n",
            "\n",
            "Epoch 00008: val_accuracy improved from 0.75000 to 0.77500, saving model to model_2.6.0/model_vgg16_all_collab.h5\n",
            "Epoch 9/25\n",
            "2/2 [==============================] - 5s 3s/step - loss: 0.5628 - accuracy: 0.7250 - val_loss: 0.6427 - val_accuracy: 0.7000\n",
            "\n",
            "Epoch 00009: val_accuracy did not improve from 0.77500\n",
            "Epoch 10/25\n",
            "2/2 [==============================] - 5s 2s/step - loss: 0.5713 - accuracy: 0.7472 - val_loss: 0.9428 - val_accuracy: 0.6250\n",
            "\n",
            "Epoch 00010: val_accuracy did not improve from 0.77500\n",
            "Epoch 11/25\n",
            "2/2 [==============================] - 5s 2s/step - loss: 0.5852 - accuracy: 0.7444 - val_loss: 0.6955 - val_accuracy: 0.7000\n",
            "\n",
            "Epoch 00011: val_accuracy did not improve from 0.77500\n",
            "Epoch 12/25\n",
            "2/2 [==============================] - 5s 2s/step - loss: 0.5349 - accuracy: 0.7500 - val_loss: 0.7286 - val_accuracy: 0.5750\n",
            "\n",
            "Epoch 00012: val_accuracy did not improve from 0.77500\n",
            "Epoch 13/25\n",
            "2/2 [==============================] - 5s 3s/step - loss: 0.5522 - accuracy: 0.7278 - val_loss: 0.6724 - val_accuracy: 0.6000\n",
            "\n",
            "Epoch 00013: val_accuracy did not improve from 0.77500\n",
            "Epoch 14/25\n",
            "2/2 [==============================] - 5s 2s/step - loss: 0.5476 - accuracy: 0.7639 - val_loss: 0.7010 - val_accuracy: 0.7500\n",
            "\n",
            "Epoch 00014: val_accuracy did not improve from 0.77500\n",
            "Epoch 15/25\n",
            "2/2 [==============================] - 5s 2s/step - loss: 0.5136 - accuracy: 0.7611 - val_loss: 0.7537 - val_accuracy: 0.7500\n",
            "\n",
            "Epoch 00015: val_accuracy did not improve from 0.77500\n",
            "Epoch 16/25\n",
            "2/2 [==============================] - 5s 2s/step - loss: 0.4746 - accuracy: 0.8111 - val_loss: 0.6400 - val_accuracy: 0.7500\n",
            "\n",
            "Epoch 00016: val_accuracy did not improve from 0.77500\n",
            "Epoch 17/25\n",
            "2/2 [==============================] - 5s 2s/step - loss: 0.4393 - accuracy: 0.8083 - val_loss: 0.6260 - val_accuracy: 0.7250\n",
            "\n",
            "Epoch 00017: val_accuracy did not improve from 0.77500\n",
            "Epoch 18/25\n",
            "2/2 [==============================] - 5s 2s/step - loss: 0.4591 - accuracy: 0.8222 - val_loss: 0.6576 - val_accuracy: 0.7250\n",
            "\n",
            "Epoch 00018: val_accuracy did not improve from 0.77500\n",
            "Epoch 19/25\n",
            "2/2 [==============================] - 5s 2s/step - loss: 0.4407 - accuracy: 0.8111 - val_loss: 0.7435 - val_accuracy: 0.7250\n",
            "\n",
            "Epoch 00019: val_accuracy did not improve from 0.77500\n",
            "Epoch 20/25\n",
            "2/2 [==============================] - 5s 2s/step - loss: 0.4073 - accuracy: 0.8361 - val_loss: 0.7471 - val_accuracy: 0.7250\n",
            "\n",
            "Epoch 00020: val_accuracy did not improve from 0.77500\n",
            "Epoch 21/25\n",
            "2/2 [==============================] - 5s 2s/step - loss: 0.4483 - accuracy: 0.8250 - val_loss: 0.7233 - val_accuracy: 0.7250\n",
            "\n",
            "Epoch 00021: val_accuracy did not improve from 0.77500\n",
            "Epoch 22/25\n",
            "2/2 [==============================] - 5s 3s/step - loss: 0.4347 - accuracy: 0.8250 - val_loss: 0.6411 - val_accuracy: 0.7000\n",
            "\n",
            "Epoch 00022: val_accuracy did not improve from 0.77500\n",
            "Epoch 23/25\n",
            "2/2 [==============================] - 5s 2s/step - loss: 0.4661 - accuracy: 0.7944 - val_loss: 0.6152 - val_accuracy: 0.7000\n",
            "\n",
            "Epoch 00023: val_accuracy did not improve from 0.77500\n",
            "Epoch 24/25\n",
            "2/2 [==============================] - 5s 2s/step - loss: 0.4218 - accuracy: 0.8306 - val_loss: 0.7321 - val_accuracy: 0.7250\n",
            "\n",
            "Epoch 00024: val_accuracy did not improve from 0.77500\n",
            "Epoch 25/25\n",
            "2/2 [==============================] - 5s 2s/step - loss: 0.4385 - accuracy: 0.8139 - val_loss: 0.6583 - val_accuracy: 0.7250\n",
            "\n",
            "Epoch 00025: val_accuracy did not improve from 0.77500\n"
          ]
        }
      ]
    },
    {
      "cell_type": "code",
      "metadata": {
        "scrolled": true,
        "colab": {
          "base_uri": "https://localhost:8080/"
        },
        "id": "UdftsY2oHyGC",
        "outputId": "57d643e5-101a-4090-b2e3-e4aade215983"
      },
      "source": [
        "history.history"
      ],
      "execution_count": 24,
      "outputs": [
        {
          "output_type": "execute_result",
          "data": {
            "text/plain": [
              "{'accuracy': [0.5111111402511597,\n",
              "  0.5138888955116272,\n",
              "  0.6194444298744202,\n",
              "  0.6083333492279053,\n",
              "  0.5666666626930237,\n",
              "  0.5361111164093018,\n",
              "  0.6499999761581421,\n",
              "  0.6916666626930237,\n",
              "  0.7250000238418579,\n",
              "  0.7472222447395325,\n",
              "  0.7444444298744202,\n",
              "  0.75,\n",
              "  0.7277777791023254,\n",
              "  0.7638888955116272,\n",
              "  0.7611111402511597,\n",
              "  0.8111110925674438,\n",
              "  0.8083333373069763,\n",
              "  0.8222222328186035,\n",
              "  0.8111110925674438,\n",
              "  0.8361111283302307,\n",
              "  0.824999988079071,\n",
              "  0.824999988079071,\n",
              "  0.7944444417953491,\n",
              "  0.8305555582046509,\n",
              "  0.8138889074325562],\n",
              " 'loss': [0.8283398151397705,\n",
              "  0.7407142519950867,\n",
              "  0.7562854290008545,\n",
              "  0.7848767042160034,\n",
              "  0.7303788065910339,\n",
              "  0.6798449158668518,\n",
              "  0.6080535650253296,\n",
              "  0.6135316491127014,\n",
              "  0.5627603530883789,\n",
              "  0.5712923407554626,\n",
              "  0.5852087736129761,\n",
              "  0.5348898768424988,\n",
              "  0.552212119102478,\n",
              "  0.5475912094116211,\n",
              "  0.5135769844055176,\n",
              "  0.4746352732181549,\n",
              "  0.4393046200275421,\n",
              "  0.45910385251045227,\n",
              "  0.4406547248363495,\n",
              "  0.40729761123657227,\n",
              "  0.44826540350914,\n",
              "  0.4347260296344757,\n",
              "  0.46610331535339355,\n",
              "  0.4217960834503174,\n",
              "  0.43849706649780273],\n",
              " 'val_accuracy': [0.5,\n",
              "  0.574999988079071,\n",
              "  0.5,\n",
              "  0.5,\n",
              "  0.574999988079071,\n",
              "  0.75,\n",
              "  0.7250000238418579,\n",
              "  0.7749999761581421,\n",
              "  0.699999988079071,\n",
              "  0.625,\n",
              "  0.699999988079071,\n",
              "  0.574999988079071,\n",
              "  0.6000000238418579,\n",
              "  0.75,\n",
              "  0.75,\n",
              "  0.75,\n",
              "  0.7250000238418579,\n",
              "  0.7250000238418579,\n",
              "  0.7250000238418579,\n",
              "  0.7250000238418579,\n",
              "  0.7250000238418579,\n",
              "  0.699999988079071,\n",
              "  0.699999988079071,\n",
              "  0.7250000238418579,\n",
              "  0.7250000238418579],\n",
              " 'val_loss': [0.6965556740760803,\n",
              "  0.8877506256103516,\n",
              "  0.7343729734420776,\n",
              "  0.6887353658676147,\n",
              "  0.6296141743659973,\n",
              "  0.5847158432006836,\n",
              "  0.6583149433135986,\n",
              "  0.6326643228530884,\n",
              "  0.642708420753479,\n",
              "  0.9428390264511108,\n",
              "  0.6954900026321411,\n",
              "  0.7285706400871277,\n",
              "  0.67235267162323,\n",
              "  0.701003909111023,\n",
              "  0.753686785697937,\n",
              "  0.6400132179260254,\n",
              "  0.6260095834732056,\n",
              "  0.6576105356216431,\n",
              "  0.743473470211029,\n",
              "  0.7471045851707458,\n",
              "  0.7233250141143799,\n",
              "  0.6410759687423706,\n",
              "  0.6152436137199402,\n",
              "  0.7321212291717529,\n",
              "  0.6583454608917236]}"
            ]
          },
          "metadata": {},
          "execution_count": 24
        }
      ]
    },
    {
      "cell_type": "code",
      "metadata": {
        "_uuid": "dd1582290e369f0f6bed6c6856a1c850b6ec3ef4",
        "colab": {
          "base_uri": "https://localhost:8080/",
          "height": 294
        },
        "id": "sZmHE_rWHyGC",
        "outputId": "d38128df-b58d-4c67-f2e6-266490316b73"
      },
      "source": [
        "# Training plots\n",
        "common_title = model_type + ' with ' + str(no_of_images) + ' samples'\n",
        "epochs = [i for i in range(1, len(history.history['loss'])+1)]\n",
        "\n",
        "plt.plot(epochs, history.history['loss'], color='blue', label=\"training_loss\")\n",
        "plt.plot(epochs, history.history['val_loss'], color='red', label=\"validation_loss\")\n",
        "plt.legend(loc='best')\n",
        "#plt.title('training: ' + common_title)\n",
        "plt.xlabel('epoch')\n",
        "plt.savefig(TRAINING_PLOT_FILE, bbox_inches='tight')\n",
        "plt.close()\n",
        "\n",
        "plt.plot(epochs, history.history['accuracy'], color='blue', label=\"training_accuracy\")\n",
        "plt.plot(epochs, history.history['val_accuracy'], color='red',label=\"validation_accuracy\")\n",
        "plt.legend(loc='best')\n",
        "plt.title('Validation (TF 2.5.0): ' + common_title )\n",
        "plt.xlabel('epoch')\n",
        "plt.savefig(VALIDATION_PLOT_FILE, bbox_inches='tight')\n",
        "plt.show()\n",
        "plt.close()"
      ],
      "execution_count": 25,
      "outputs": [
        {
          "output_type": "display_data",
          "data": {
            "image/png": "[encoded data removed]",
            "text/plain": [
              "<Figure size 432x288 with 1 Axes>"
            ]
          },
          "metadata": {
            "needs_background": "light"
          }
        }
      ]
    },
    {
      "cell_type": "code",
      "metadata": {
        "_uuid": "7d366ba6530d8d2ae88f9a2947abb38c15e040a3",
        "colab": {
          "base_uri": "https://localhost:8080/",
          "height": 367
        },
        "id": "j8k-tzm9HyGD",
        "outputId": "274451b1-729e-4c6e-a5c3-dd71cf283b29"
      },
      "source": [
        "# ROC testing plot\n",
        "#model.load_weights(MODEL_FILE)\n",
        "predictions = model.predict_generator(testing_generator, steps=len(testing_generator), verbose=VERBOSITY)\n",
        "false_positive_rate, true_positive_rate, threshold = roc_curve(testing_generator.classes, predictions)\n",
        "area_under_curve = auc(false_positive_rate, true_positive_rate)\n",
        "\n",
        "plt.plot([0, 1], [0, 1], 'k--')\n",
        "plt.plot(false_positive_rate, true_positive_rate, label='AUC = {:.3f}'.format(area_under_curve))\n",
        "plt.xlabel('False positive rate')\n",
        "plt.ylabel('True positive rate')\n",
        "plt.title('ROC curve: ' + common_title + ' TF 2.4.1')\n",
        "plt.legend(loc='best')\n",
        "plt.savefig(ROC_PLOT_FILE, bbox_inches='tight')\n",
        "plt.show()\n",
        "plt.close()"
      ],
      "execution_count": 26,
      "outputs": [
        {
          "output_type": "stream",
          "name": "stderr",
          "text": [
            "/usr/local/lib/python3.7/dist-packages/keras/engine/training.py:2035: UserWarning: `Model.predict_generator` is deprecated and will be removed in a future version. Please use `Model.predict`, which supports generators.\n",
            "  warnings.warn('`Model.predict_generator` is deprecated and '\n"
          ]
        },
        {
          "output_type": "stream",
          "name": "stdout",
          "text": [
            "1/1 [==============================] - 0s 215ms/step\n"
          ]
        },
        {
          "output_type": "display_data",
          "data": {
            "image/png": "[encoded data removed]",
            "text/plain": [
              "<Figure size 432x288 with 1 Axes>"
            ]
          },
          "metadata": {
            "needs_background": "light"
          }
        }
      ]
    },
    {
      "cell_type": "code",
      "metadata": {
        "id": "O4w6ooqJHyGD"
      },
      "source": [
        ""
      ],
      "execution_count": null,
      "outputs": []
    }
  ]
}