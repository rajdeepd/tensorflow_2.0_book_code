{
 "cells": [
  {
   "cell_type": "markdown",
   "metadata": {
    "colab_type": "text",
    "id": "view-in-github"
   },
   "source": [
    "<a href=\"https://colab.research.google.com/github/rajdeepd/tensorflow_2.0_book_code/blob/master/ch08/WGAN_mnist_example2.ipynb\" target=\"_parent\"><img src=\"https://colab.research.google.com/assets/colab-badge.svg\" alt=\"Open In Colab\"/></a>"
   ]
  },
  {
   "cell_type": "code",
   "execution_count": 19,
   "metadata": {
    "id": "LBWSmkvm4f9K"
   },
   "outputs": [],
   "source": [
    "# example of a wgan for generating handwritten digits\n",
    "from numpy import expand_dims\n",
    "from numpy import mean\n",
    "from numpy import ones\n",
    "from numpy.random import randn\n",
    "from numpy.random import randint\n",
    "from tensorflow.keras.datasets.mnist import load_data\n",
    "from tensorflow.keras import backend\n",
    "from tensorflow.keras.optimizers import RMSprop\n",
    "from tensorflow.keras.models import Sequential\n",
    "from tensorflow.keras.layers import Dense\n",
    "from tensorflow.keras.layers import Reshape\n",
    "from tensorflow.keras.layers import Flatten\n",
    "from tensorflow.keras.layers import Conv2D\n",
    "from tensorflow.keras.layers import Conv2DTranspose\n",
    "from tensorflow.keras.layers import LeakyReLU\n",
    "from tensorflow.keras.layers import BatchNormalization\n",
    "from tensorflow.keras.initializers import RandomNormal\n",
    "from tensorflow.keras.constraints import Constraint\n",
    "from matplotlib import pyplot"
   ]
  },
  {
   "cell_type": "code",
   "execution_count": 20,
   "metadata": {
    "id": "xzRLjn8d45xV"
   },
   "outputs": [],
   "source": [
    "# clip model weights to a given hypercube\n",
    "class ClipConstraint(Constraint):\n",
    "    # set clip value when initialized\n",
    "    def __init__(self, clip_value):\n",
    "        self.clip_value = clip_value\n",
    "\n",
    "    # clip model weights to hypercube\n",
    "    def __call__(self, weights):\n",
    "        return backend.clip(weights, -self.clip_value, self.clip_value)\n",
    "\n",
    "    # get the config\n",
    "    def get_config(self):\n",
    "        return {'clip_value': self.clip_value}\n"
   ]
  },
  {
   "cell_type": "code",
   "execution_count": 21,
   "metadata": {
    "id": "8De_MLNz4_X7"
   },
   "outputs": [],
   "source": [
    "# calculate wasserstein loss\n",
    "def wasserstein_loss(y_true, y_pred):\n",
    "    return backend.mean(y_true * y_pred)"
   ]
  },
  {
   "cell_type": "code",
   "execution_count": 35,
   "metadata": {
    "id": "S7_QS_Ff5Fpj"
   },
   "outputs": [],
   "source": [
    "# define the critic model\n",
    "def make_critic(in_shape=(28,28,1)):\n",
    "    # weight initialization\n",
    "    init = RandomNormal(stddev=0.02)\n",
    "    # weight constraint\n",
    "    const = ClipConstraint(0.01)\n",
    "    # define model\n",
    "    model = Sequential()\n",
    "    # downsample to 14x14\n",
    "    model.add(Conv2D(64, (4,4), strides=(2,2), padding='same', kernel_initializer=init, kernel_constraint=const, input_shape=in_shape))\n",
    "    model.add(BatchNormalization())\n",
    "    model.add(LeakyReLU(alpha=0.2))\n",
    "    # downsample to 7x7\n",
    "    model.add(Conv2D(64, (4,4), strides=(2,2), padding='same', kernel_initializer=init, kernel_constraint=const))\n",
    "    model.add(BatchNormalization())\n",
    "    model.add(LeakyReLU(alpha=0.2))\n",
    "    # scoring, linear activation\n",
    "    model.add(Flatten())\n",
    "    model.add(Dense(1))\n",
    "    # compile model\n",
    "    opt = RMSprop(lr=0.00005)\n",
    "    model.compile(loss=wasserstein_loss, optimizer=opt)\n",
    "    return model\n",
    "\n",
    "# define the standalone generator model\n",
    "def make_generator(latent_dim):\n",
    "    # weight initialization\n",
    "    init = RandomNormal(stddev=0.02)\n",
    "    # define model\n",
    "    model = Sequential()\n",
    "    # foundation for 7x7 image\n",
    "    n_nodes = 128 * 7 * 7\n",
    "    model.add(Dense(n_nodes, kernel_initializer=init, input_dim=latent_dim))\n",
    "    model.add(LeakyReLU(alpha=0.2))\n",
    "    model.add(Reshape((7, 7, 128)))\n",
    "    # upsample to 14x14\n",
    "    model.add(Conv2DTranspose(128, (4,4), strides=(2,2), padding='same', kernel_initializer=init))\n",
    "    model.add(BatchNormalization())\n",
    "    model.add(LeakyReLU(alpha=0.2))\n",
    "    # upsample to 28x28\n",
    "    model.add(Conv2DTranspose(128, (4,4), strides=(2,2), padding='same', kernel_initializer=init))\n",
    "    model.add(BatchNormalization())\n",
    "    model.add(LeakyReLU(alpha=0.2))\n",
    "    # output 28x28x1\n",
    "    model.add(Conv2D(1, (7,7), activation='tanh', padding='same', kernel_initializer=init))\n",
    "    return model"
   ]
  },
  {
   "cell_type": "code",
   "execution_count": 36,
   "metadata": {
    "id": "v2LmRAc_5Oe4"
   },
   "outputs": [],
   "source": [
    "# define the combined generator and critic model, for updating the generator\n",
    "def make_gan(generator, critic):\n",
    "    # make weights in the critic not trainable\n",
    "    critic.trainable = False\n",
    "    # connect them\n",
    "    model = Sequential()\n",
    "    # add generator\n",
    "    model.add(generator)\n",
    "    # add the critic\n",
    "    model.add(critic)\n",
    "    # compile model\n",
    "    opt = RMSprop(lr=0.00005)\n",
    "    model.compile(loss=wasserstein_loss, optimizer=opt)\n",
    "    return model"
   ]
  },
  {
   "cell_type": "code",
   "execution_count": 37,
   "metadata": {
    "id": "kfNcKECN5UEW"
   },
   "outputs": [],
   "source": [
    "# load images\n",
    "def load_real_samples():\n",
    "    # load dataset\n",
    "    (trainX, trainy), (_, _) = load_data()\n",
    "    # select all of the examples for a given class\n",
    "    selected_ix = trainy == 7\n",
    "    X = trainX[selected_ix]\n",
    "    # expand to 3d, e.g. add channels\n",
    "    X = expand_dims(X, axis=-1)\n",
    "    # convert from ints to floats\n",
    "    X = X.astype('float32')\n",
    "    # scale from [0,255] to [-1,1]\n",
    "    X = (X - 127.5) / 127.5\n",
    "    return X"
   ]
  },
  {
   "cell_type": "code",
   "execution_count": 38,
   "metadata": {
    "id": "EghSvzEo5hG-"
   },
   "outputs": [],
   "source": [
    "# select real samples\n",
    "def generate_real_samples(dataset, n_samples):\n",
    "    # choose random instances\n",
    "    ix = randint(0, dataset.shape[0], n_samples)\n",
    "    # select images\n",
    "    X = dataset[ix]\n",
    "    # generate class labels, -1 for 'real'\n",
    "    y = -ones((n_samples, 1))\n",
    "    return X, y\n"
   ]
  },
  {
   "cell_type": "code",
   "execution_count": 39,
   "metadata": {
    "id": "8yw2Ez36KuqZ"
   },
   "outputs": [],
   "source": [
    "# generate points in latent space as input for the generator\n",
    "def generate_latent_points(latent_dim, n_samples):\n",
    "    # generate points in the latent space\n",
    "    x_input = randn(latent_dim * n_samples)\n",
    "    # reshape into a batch of inputs for the network\n",
    "    x_input = x_input.reshape(n_samples, latent_dim)\n",
    "    return x_input"
   ]
  },
  {
   "cell_type": "code",
   "execution_count": 40,
   "metadata": {
    "id": "Y4Zii7dvKy2r"
   },
   "outputs": [],
   "source": [
    "# use the generator to generate n fake examples, with class labels\n",
    "def generate_fake_samples(generator, latent_dim, n_samples):\n",
    "    # generate points in latent space\n",
    "    x_input = generate_latent_points(latent_dim, n_samples)\n",
    "    # predict outputs\n",
    "    X = generator.predict(x_input)\n",
    "    # create class labels with 1.0 for 'fake'\n",
    "    y = ones((n_samples, 1))\n",
    "    return X, y"
   ]
  },
  {
   "cell_type": "code",
   "execution_count": 41,
   "metadata": {
    "id": "xITwykPOK3O3"
   },
   "outputs": [],
   "source": [
    "# generate samples and save as a plot and save the model\n",
    "def summarize_performance(step, g_model, latent_dim, n_samples=100):\n",
    "    # prepare fake examples\n",
    "    X, _ = generate_fake_samples(g_model, latent_dim, n_samples)\n",
    "    # scale from [-1,1] to [0,1]\n",
    "    X = (X + 1) / 2.0\n",
    "    # plot images\n",
    "    for i in range(10 * 10):\n",
    "        # define subplot\n",
    "        pyplot.subplot(10, 10, 1 + i)\n",
    "        # turn off axis\n",
    "        pyplot.axis('off')\n",
    "        # plot raw pixel data\n",
    "        pyplot.imshow(X[i, :, :, 0], cmap='gray_r')\n",
    "    # save plot to file\n",
    "    filename1 = 'generated_plot_%04d.png' % (step+1)\n",
    "    pyplot.savefig(filename1)\n",
    "    pyplot.close()\n",
    "    # save the generator model\n",
    "    filename2 = 'model_%04d.h5' % (step+1)\n",
    "    g_model.save(filename2)\n",
    "    print('>Saved: %s and %s' % (filename1, filename2))"
   ]
  },
  {
   "cell_type": "code",
   "execution_count": 42,
   "metadata": {
    "id": "Yhmj3qmHK4vW"
   },
   "outputs": [],
   "source": [
    "# create a line plot of loss for the gan and save to file\n",
    "%matplotlib inline\n",
    "def plot_history(d1_hist, d2_hist, g_hist):\n",
    "    # plot history\n",
    "    pyplot.plot(d1_hist, label='crit_real')\n",
    "    pyplot.plot(d2_hist, label='crit_fake')\n",
    "    pyplot.plot(g_hist, label='gen')\n",
    "    pyplot.legend()\n",
    "    pyplot.show()\n",
    "    pyplot.savefig('plot_wgan_line_plot_loss.png')\n",
    "    pyplot.close()"
   ]
  },
  {
   "cell_type": "code",
   "execution_count": 43,
   "metadata": {
    "id": "RYnFW4OOLCwN"
   },
   "outputs": [],
   "source": [
    "# train the generator and critic\n",
    "def train(g_model, c_model, gan_model, dataset, latent_dim, n_epochs=1, n_batch=64, n_critic=5):\n",
    "    # calculate the number of batches per training epoch\n",
    "    bat_per_epo = int(dataset.shape[0] / n_batch)\n",
    "    # calculate the number of training iterations\n",
    "    n_steps = bat_per_epo * n_epochs\n",
    "    # calculate the size of half a batch of samples\n",
    "    half_batch = int(n_batch / 2)\n",
    "    # lists for keeping track of loss\n",
    "    c1_hist, c2_hist, g_hist = list(), list(), list()\n",
    "    # manually enumerate epochs\n",
    "    for i in range(n_steps):\n",
    "        # update the critic more than the generator\n",
    "        c1_tmp, c2_tmp = list(), list()\n",
    "        for _ in range(n_critic):\n",
    "            # get randomly selected 'real' samples\n",
    "            X_real, y_real = generate_real_samples(dataset, half_batch)\n",
    "            # update critic model weights\n",
    "            c_loss1 = c_model.train_on_batch(X_real, y_real)\n",
    "            c1_tmp.append(c_loss1)\n",
    "            # generate 'fake' examples\n",
    "            X_fake, y_fake = generate_fake_samples(g_model, latent_dim, half_batch)\n",
    "            # update critic model weights\n",
    "            c_loss2 = c_model.train_on_batch(X_fake, y_fake)\n",
    "            c2_tmp.append(c_loss2)\n",
    "        # store critic loss\n",
    "        c1_hist.append(mean(c1_tmp))\n",
    "        c2_hist.append(mean(c2_tmp))\n",
    "        # prepare points in latent space as input for the generator\n",
    "        X_gan = generate_latent_points(latent_dim, n_batch)\n",
    "        # create inverted labels for the fake samples\n",
    "        y_gan = -ones((n_batch, 1))\n",
    "        # update the generator via the critic's error\n",
    "        g_loss = gan_model.train_on_batch(X_gan, y_gan)\n",
    "        g_hist.append(g_loss)\n",
    "        # summarize loss on this batch\n",
    "        print('>%d, c1=%.3f, c2=%.3f g=%.3f' % (i+1, c1_hist[-1], c2_hist[-1], g_loss))\n",
    "        # evaluate the model performance every 'epoch'\n",
    "        if (i+1) % bat_per_epo == 0:\n",
    "            summarize_performance(i, g_model, latent_dim)\n",
    "    # line plots of loss\n",
    "    plot_history(c1_hist, c2_hist, g_hist)"
   ]
  },
  {
   "cell_type": "code",
   "execution_count": 44,
   "metadata": {
    "colab": {
     "base_uri": "https://localhost:8080/"
    },
    "id": "dyZTceybLGxr",
    "outputId": "bbc41e7e-b06c-4ba3-fe4b-bef3ae688a5a"
   },
   "outputs": [
    {
     "name": "stdout",
     "output_type": "stream",
     "text": [
      "(6265, 28, 28, 1)\n",
      ">1, c1=-2.074, c2=-0.021 g=0.001\n",
      ">2, c1=-6.711, c2=0.036 g=-0.007\n",
      ">3, c1=-9.575, c2=0.078 g=-0.014\n",
      ">4, c1=-11.688, c2=0.091 g=-0.018\n",
      ">5, c1=-13.825, c2=0.070 g=-0.022\n",
      ">6, c1=-15.077, c2=0.074 g=-0.030\n",
      ">7, c1=-16.856, c2=0.041 g=-0.036\n",
      ">8, c1=-18.122, c2=0.005 g=-0.042\n",
      ">9, c1=-19.406, c2=-0.042 g=-0.051\n",
      ">10, c1=-20.760, c2=-0.100 g=-0.058\n",
      ">11, c1=-21.216, c2=-0.169 g=-0.067\n",
      ">12, c1=-22.405, c2=-0.163 g=-0.074\n",
      ">13, c1=-23.199, c2=-0.105 g=-0.091\n",
      ">14, c1=-24.025, c2=-0.061 g=-0.101\n",
      ">15, c1=-24.824, c2=0.047 g=-0.125\n",
      ">16, c1=-25.644, c2=0.177 g=-0.155\n",
      ">17, c1=-26.485, c2=0.341 g=-0.202\n",
      ">18, c1=-26.893, c2=0.538 g=-0.268\n",
      ">19, c1=-27.408, c2=0.706 g=-0.335\n",
      ">20, c1=-28.476, c2=0.852 g=-0.397\n",
      ">21, c1=-28.806, c2=0.940 g=-0.467\n",
      ">22, c1=-29.678, c2=1.039 g=-0.551\n",
      ">23, c1=-30.011, c2=1.003 g=-0.621\n",
      ">24, c1=-30.690, c2=1.167 g=-0.717\n",
      ">25, c1=-31.279, c2=1.088 g=-0.807\n",
      ">26, c1=-31.469, c2=0.956 g=-0.923\n",
      ">27, c1=-32.112, c2=0.694 g=-1.010\n",
      ">28, c1=-32.289, c2=0.519 g=-1.123\n",
      ">29, c1=-33.244, c2=0.202 g=-1.257\n",
      ">30, c1=-33.457, c2=-0.158 g=-1.382\n",
      ">31, c1=-33.934, c2=-0.573 g=-1.540\n",
      ">32, c1=-34.422, c2=-1.010 g=-1.706\n",
      ">33, c1=-34.878, c2=-1.592 g=-1.894\n",
      ">34, c1=-35.407, c2=-2.181 g=-2.109\n",
      ">35, c1=-36.355, c2=-2.755 g=-2.378\n",
      ">36, c1=-35.796, c2=-3.137 g=-2.694\n",
      ">37, c1=-35.800, c2=-3.734 g=-2.964\n",
      ">38, c1=-36.727, c2=-4.909 g=-3.344\n",
      ">39, c1=-37.226, c2=-5.810 g=-3.632\n",
      ">40, c1=-36.722, c2=-7.063 g=-4.018\n",
      ">41, c1=-37.843, c2=-8.617 g=-4.412\n",
      ">42, c1=-38.056, c2=-10.110 g=-4.959\n",
      ">43, c1=-38.896, c2=-11.760 g=-5.535\n",
      ">44, c1=-39.728, c2=-12.842 g=-6.266\n",
      ">45, c1=-40.458, c2=-13.671 g=-6.878\n",
      ">46, c1=-40.594, c2=-15.722 g=-7.659\n",
      ">47, c1=-40.413, c2=-16.782 g=-8.559\n",
      ">48, c1=-41.800, c2=-18.368 g=-9.475\n",
      ">49, c1=-41.950, c2=-19.682 g=-10.630\n",
      ">50, c1=-42.124, c2=-21.349 g=-11.722\n",
      ">51, c1=-43.280, c2=-22.716 g=-12.819\n",
      ">52, c1=-42.715, c2=-24.269 g=-14.574\n",
      ">53, c1=-44.466, c2=-25.191 g=-15.824\n",
      ">54, c1=-43.916, c2=-26.471 g=-18.201\n",
      ">55, c1=-45.529, c2=-27.788 g=-19.340\n",
      ">56, c1=-45.991, c2=-28.614 g=-21.986\n",
      ">57, c1=-45.666, c2=-28.864 g=-24.376\n",
      ">58, c1=-46.443, c2=-29.421 g=-26.587\n",
      ">59, c1=-47.130, c2=-29.194 g=-30.250\n",
      ">60, c1=-48.196, c2=-29.195 g=-34.523\n",
      ">61, c1=-48.589, c2=-29.386 g=-37.989\n",
      ">62, c1=-48.519, c2=-27.991 g=-40.776\n",
      ">63, c1=-48.794, c2=-29.079 g=-43.548\n",
      ">64, c1=-49.503, c2=-28.857 g=-45.678\n",
      ">65, c1=-49.497, c2=-30.559 g=-48.000\n",
      ">66, c1=-50.250, c2=-30.481 g=-50.485\n",
      ">67, c1=-50.531, c2=-31.309 g=-54.080\n",
      ">68, c1=-51.324, c2=-31.899 g=-56.709\n",
      ">69, c1=-50.907, c2=-33.609 g=-61.480\n",
      ">70, c1=-52.706, c2=-34.458 g=-65.077\n",
      ">71, c1=-52.297, c2=-36.216 g=-67.541\n",
      ">72, c1=-52.664, c2=-36.700 g=-69.190\n",
      ">73, c1=-54.101, c2=-37.931 g=-72.424\n",
      ">74, c1=-53.654, c2=-39.277 g=-75.455\n",
      ">75, c1=-55.719, c2=-40.575 g=-82.155\n",
      ">76, c1=-55.680, c2=-42.287 g=-82.968\n",
      ">77, c1=-56.779, c2=-43.069 g=-84.115\n",
      ">78, c1=-58.229, c2=-44.618 g=-87.161\n",
      ">79, c1=-57.695, c2=-45.561 g=-91.277\n",
      ">80, c1=-59.180, c2=-46.436 g=-94.828\n",
      ">81, c1=-59.622, c2=-47.461 g=-95.874\n",
      ">82, c1=-60.313, c2=-49.214 g=-100.821\n",
      ">83, c1=-61.388, c2=-49.812 g=-103.412\n",
      ">84, c1=-61.155, c2=-50.951 g=-108.072\n",
      ">85, c1=-62.719, c2=-51.631 g=-103.026\n",
      ">86, c1=-63.294, c2=-52.935 g=-112.394\n",
      ">87, c1=-63.649, c2=-53.956 g=-112.821\n",
      ">88, c1=-65.252, c2=-54.672 g=-113.622\n",
      ">89, c1=-64.866, c2=-55.688 g=-114.084\n",
      ">90, c1=-66.285, c2=-56.949 g=-118.520\n",
      ">91, c1=-67.834, c2=-57.260 g=-117.552\n",
      ">92, c1=-67.879, c2=-58.883 g=-121.300\n",
      ">93, c1=-68.303, c2=-59.826 g=-123.159\n",
      ">94, c1=-70.048, c2=-60.359 g=-126.853\n",
      ">95, c1=-70.386, c2=-60.869 g=-120.796\n",
      ">96, c1=-69.840, c2=-62.513 g=-127.095\n",
      ">97, c1=-71.354, c2=-63.327 g=-127.432\n",
      ">Saved: generated_plot_0097.png and model_0097.h5\n"
     ]
    },
    {
     "data": {
      "image/png": "[encoded data removed]",
      "text/plain": [
       "<Figure size 432x288 with 1 Axes>"
      ]
     },
     "metadata": {
      "needs_background": "light"
     },
     "output_type": "display_data"
    }
   ],
   "source": [
    "# size of the latent space\n",
    "latent_dim = 50\n",
    "# create the critic\n",
    "critic = make_critic()\n",
    "# create the generator\n",
    "generator = make_generator(latent_dim)\n",
    "# create the gan\n",
    "gan_model = make_gan(generator, critic)\n",
    "# load image data\n",
    "dataset = load_real_samples()\n",
    "print(dataset.shape)\n",
    "# train model\n",
    "train(generator, critic, gan_model, dataset, latent_dim)"
   ]
  },
  {
   "cell_type": "code",
   "execution_count": null,
   "metadata": {},
   "outputs": [],
   "source": []
  }
 ],
 "metadata": {
  "colab": {
   "authorship_tag": "ABX9TyN9bBxoLT09k18gZQuYO7zX",
   "include_colab_link": true,
   "name": "WGAN_mnist_example2.ipynb",
   "provenance": []
  },
  "kernelspec": {
   "display_name": "Python 3",
   "language": "python",
   "name": "python3"
  },
  "language_info": {
   "codemirror_mode": {
    "name": "ipython",
    "version": 3
   },
   "file_extension": ".py",
   "mimetype": "text/x-python",
   "name": "python",
   "nbconvert_exporter": "python",
   "pygments_lexer": "ipython3",
   "version": "3.7.4"
  }
 },
 "nbformat": 4,
 "nbformat_minor": 1
}
